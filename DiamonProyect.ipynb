{
 "cells": [
  {
   "cell_type": "markdown",
   "metadata": {},
   "source": [
    "# Proyecto Diamantes 💎\n"
   ]
  },
  {
   "cell_type": "markdown",
   "metadata": {},
   "source": [
    "###  Importamos las librerias"
   ]
  },
  {
   "cell_type": "code",
   "execution_count": 145,
   "metadata": {},
   "outputs": [],
   "source": [
    "import pandas as pd\n",
    "import numpy as np\n",
    "import seaborn as sns\n",
    "import matplotlib.pyplot as plt\n",
    "from time import time\n",
    "from src.arreglardatos import *\n",
    "from src.ModelosOptimizaryProbar import *\n",
    "\n",
    "\n",
    "from sklearn.pipeline import make_pipeline\n",
    "\n",
    "from sklearn import preprocessing\n",
    "from sklearn.model_selection import train_test_split\n",
    "from sklearn.linear_model import LogisticRegression\n",
    "from sklearn import ensemble\n",
    "from sklearn.metrics import r2_score\n",
    "from sklearn.ensemble import RandomForestRegressor\n",
    "from sklearn.model_selection import GridSearchCV\n",
    "from sklearn.pipeline import Pipeline\n",
    "from sklearn.experimental import enable_hist_gradient_boosting  \n",
    "from sklearn.ensemble import HistGradientBoostingRegressor\n",
    "from sklearn.linear_model import RidgeCV\n",
    "from sklearn.svm import LinearSVR\n",
    "from sklearn.ensemble import StackingRegressor\n",
    "from sklearn.ensemble import AdaBoostRegressor\n",
    "from sklearn.linear_model import RANSACRegressor\n",
    "from sklearn.metrics import mean_squared_error\n",
    "\n",
    "\n"
   ]
  },
  {
   "cell_type": "markdown",
   "metadata": {},
   "source": [
    "Damos variables los archivos csv"
   ]
  },
  {
   "cell_type": "code",
   "execution_count": 146,
   "metadata": {},
   "outputs": [],
   "source": [
    "diamantes_test =  pd.read_csv('../Output/diamonds_test.csv')"
   ]
  },
  {
   "cell_type": "code",
   "execution_count": 147,
   "metadata": {},
   "outputs": [],
   "source": [
    "diamantes_train =  pd.read_csv('../Output/diamonds_train.csv')"
   ]
  },
  {
   "cell_type": "code",
   "execution_count": 148,
   "metadata": {},
   "outputs": [
    {
     "data": {
      "text/html": [
       "<div>\n",
       "<style scoped>\n",
       "    .dataframe tbody tr th:only-of-type {\n",
       "        vertical-align: middle;\n",
       "    }\n",
       "\n",
       "    .dataframe tbody tr th {\n",
       "        vertical-align: top;\n",
       "    }\n",
       "\n",
       "    .dataframe thead th {\n",
       "        text-align: right;\n",
       "    }\n",
       "</style>\n",
       "<table border=\"1\" class=\"dataframe\">\n",
       "  <thead>\n",
       "    <tr style=\"text-align: right;\">\n",
       "      <th></th>\n",
       "      <th>Unnamed: 0</th>\n",
       "      <th>carat</th>\n",
       "      <th>cut</th>\n",
       "      <th>color</th>\n",
       "      <th>clarity</th>\n",
       "      <th>depth</th>\n",
       "      <th>table</th>\n",
       "      <th>x</th>\n",
       "      <th>y</th>\n",
       "      <th>z</th>\n",
       "    </tr>\n",
       "  </thead>\n",
       "  <tbody>\n",
       "    <tr>\n",
       "      <th>0</th>\n",
       "      <td>0</td>\n",
       "      <td>0.30</td>\n",
       "      <td>Ideal</td>\n",
       "      <td>H</td>\n",
       "      <td>SI2</td>\n",
       "      <td>60.0</td>\n",
       "      <td>56.0</td>\n",
       "      <td>4.41</td>\n",
       "      <td>4.43</td>\n",
       "      <td>2.65</td>\n",
       "    </tr>\n",
       "    <tr>\n",
       "      <th>1</th>\n",
       "      <td>1</td>\n",
       "      <td>0.34</td>\n",
       "      <td>Ideal</td>\n",
       "      <td>D</td>\n",
       "      <td>IF</td>\n",
       "      <td>62.1</td>\n",
       "      <td>57.0</td>\n",
       "      <td>4.52</td>\n",
       "      <td>4.46</td>\n",
       "      <td>2.79</td>\n",
       "    </tr>\n",
       "    <tr>\n",
       "      <th>2</th>\n",
       "      <td>2</td>\n",
       "      <td>1.57</td>\n",
       "      <td>Very Good</td>\n",
       "      <td>I</td>\n",
       "      <td>VS2</td>\n",
       "      <td>60.3</td>\n",
       "      <td>58.0</td>\n",
       "      <td>7.58</td>\n",
       "      <td>7.55</td>\n",
       "      <td>4.56</td>\n",
       "    </tr>\n",
       "    <tr>\n",
       "      <th>3</th>\n",
       "      <td>3</td>\n",
       "      <td>0.31</td>\n",
       "      <td>Ideal</td>\n",
       "      <td>H</td>\n",
       "      <td>VS2</td>\n",
       "      <td>61.8</td>\n",
       "      <td>57.0</td>\n",
       "      <td>4.32</td>\n",
       "      <td>4.36</td>\n",
       "      <td>2.68</td>\n",
       "    </tr>\n",
       "    <tr>\n",
       "      <th>4</th>\n",
       "      <td>4</td>\n",
       "      <td>1.51</td>\n",
       "      <td>Good</td>\n",
       "      <td>I</td>\n",
       "      <td>VVS1</td>\n",
       "      <td>64.0</td>\n",
       "      <td>60.0</td>\n",
       "      <td>7.26</td>\n",
       "      <td>7.21</td>\n",
       "      <td>4.63</td>\n",
       "    </tr>\n",
       "  </tbody>\n",
       "</table>\n",
       "</div>"
      ],
      "text/plain": [
       "   Unnamed: 0  carat        cut color clarity  depth  table     x     y     z\n",
       "0           0   0.30      Ideal     H     SI2   60.0   56.0  4.41  4.43  2.65\n",
       "1           1   0.34      Ideal     D      IF   62.1   57.0  4.52  4.46  2.79\n",
       "2           2   1.57  Very Good     I     VS2   60.3   58.0  7.58  7.55  4.56\n",
       "3           3   0.31      Ideal     H     VS2   61.8   57.0  4.32  4.36  2.68\n",
       "4           4   1.51       Good     I    VVS1   64.0   60.0  7.26  7.21  4.63"
      ]
     },
     "execution_count": 148,
     "metadata": {},
     "output_type": "execute_result"
    }
   ],
   "source": [
    "diamantes_test.head()"
   ]
  },
  {
   "cell_type": "code",
   "execution_count": 149,
   "metadata": {},
   "outputs": [
    {
     "data": {
      "text/html": [
       "<div>\n",
       "<style scoped>\n",
       "    .dataframe tbody tr th:only-of-type {\n",
       "        vertical-align: middle;\n",
       "    }\n",
       "\n",
       "    .dataframe tbody tr th {\n",
       "        vertical-align: top;\n",
       "    }\n",
       "\n",
       "    .dataframe thead th {\n",
       "        text-align: right;\n",
       "    }\n",
       "</style>\n",
       "<table border=\"1\" class=\"dataframe\">\n",
       "  <thead>\n",
       "    <tr style=\"text-align: right;\">\n",
       "      <th></th>\n",
       "      <th>Unnamed: 0</th>\n",
       "      <th>carat</th>\n",
       "      <th>cut</th>\n",
       "      <th>color</th>\n",
       "      <th>clarity</th>\n",
       "      <th>depth</th>\n",
       "      <th>table</th>\n",
       "      <th>x</th>\n",
       "      <th>y</th>\n",
       "      <th>z</th>\n",
       "      <th>price</th>\n",
       "    </tr>\n",
       "  </thead>\n",
       "  <tbody>\n",
       "    <tr>\n",
       "      <th>0</th>\n",
       "      <td>0</td>\n",
       "      <td>1.21</td>\n",
       "      <td>Ideal</td>\n",
       "      <td>H</td>\n",
       "      <td>VS2</td>\n",
       "      <td>63.0</td>\n",
       "      <td>57.0</td>\n",
       "      <td>6.73</td>\n",
       "      <td>6.70</td>\n",
       "      <td>4.23</td>\n",
       "      <td>6134</td>\n",
       "    </tr>\n",
       "    <tr>\n",
       "      <th>1</th>\n",
       "      <td>1</td>\n",
       "      <td>0.28</td>\n",
       "      <td>Very Good</td>\n",
       "      <td>D</td>\n",
       "      <td>VVS2</td>\n",
       "      <td>64.0</td>\n",
       "      <td>56.0</td>\n",
       "      <td>4.14</td>\n",
       "      <td>4.17</td>\n",
       "      <td>2.66</td>\n",
       "      <td>532</td>\n",
       "    </tr>\n",
       "    <tr>\n",
       "      <th>2</th>\n",
       "      <td>2</td>\n",
       "      <td>0.42</td>\n",
       "      <td>Premium</td>\n",
       "      <td>F</td>\n",
       "      <td>VS1</td>\n",
       "      <td>61.2</td>\n",
       "      <td>58.0</td>\n",
       "      <td>4.86</td>\n",
       "      <td>4.82</td>\n",
       "      <td>2.96</td>\n",
       "      <td>1103</td>\n",
       "    </tr>\n",
       "    <tr>\n",
       "      <th>3</th>\n",
       "      <td>3</td>\n",
       "      <td>0.26</td>\n",
       "      <td>Ideal</td>\n",
       "      <td>H</td>\n",
       "      <td>IF</td>\n",
       "      <td>61.1</td>\n",
       "      <td>57.0</td>\n",
       "      <td>4.16</td>\n",
       "      <td>4.12</td>\n",
       "      <td>2.53</td>\n",
       "      <td>600</td>\n",
       "    </tr>\n",
       "    <tr>\n",
       "      <th>4</th>\n",
       "      <td>4</td>\n",
       "      <td>1.10</td>\n",
       "      <td>Good</td>\n",
       "      <td>G</td>\n",
       "      <td>SI1</td>\n",
       "      <td>63.4</td>\n",
       "      <td>57.0</td>\n",
       "      <td>6.52</td>\n",
       "      <td>6.55</td>\n",
       "      <td>4.14</td>\n",
       "      <td>4997</td>\n",
       "    </tr>\n",
       "  </tbody>\n",
       "</table>\n",
       "</div>"
      ],
      "text/plain": [
       "   Unnamed: 0  carat        cut color clarity  depth  table     x     y     z  \\\n",
       "0           0   1.21      Ideal     H     VS2   63.0   57.0  6.73  6.70  4.23   \n",
       "1           1   0.28  Very Good     D    VVS2   64.0   56.0  4.14  4.17  2.66   \n",
       "2           2   0.42    Premium     F     VS1   61.2   58.0  4.86  4.82  2.96   \n",
       "3           3   0.26      Ideal     H      IF   61.1   57.0  4.16  4.12  2.53   \n",
       "4           4   1.10       Good     G     SI1   63.4   57.0  6.52  6.55  4.14   \n",
       "\n",
       "   price  \n",
       "0   6134  \n",
       "1    532  \n",
       "2   1103  \n",
       "3    600  \n",
       "4   4997  "
      ]
     },
     "execution_count": 149,
     "metadata": {},
     "output_type": "execute_result"
    }
   ],
   "source": [
    "diamantes_train.head()"
   ]
  },
  {
   "cell_type": "markdown",
   "metadata": {},
   "source": [
    "Miramos el nombre de las columnas"
   ]
  },
  {
   "cell_type": "code",
   "execution_count": 150,
   "metadata": {},
   "outputs": [
    {
     "data": {
      "text/plain": [
       "Index(['Unnamed: 0', 'carat', 'cut', 'color', 'clarity', 'depth', 'table', 'x',\n",
       "       'y', 'z', 'price'],\n",
       "      dtype='object')"
      ]
     },
     "execution_count": 150,
     "metadata": {},
     "output_type": "execute_result"
    }
   ],
   "source": [
    "diamantes_train.columns"
   ]
  },
  {
   "cell_type": "markdown",
   "metadata": {},
   "source": [
    "## Empezamos con la limpieza del dataset"
   ]
  },
  {
   "cell_type": "code",
   "execution_count": 151,
   "metadata": {},
   "outputs": [
    {
     "data": {
      "text/plain": [
       "array([    0,     1,     2, ..., 40342, 40343, 40344])"
      ]
     },
     "execution_count": 151,
     "metadata": {},
     "output_type": "execute_result"
    }
   ],
   "source": [
    "diamantes_train['Unnamed: 0'].unique()"
   ]
  },
  {
   "cell_type": "markdown",
   "metadata": {},
   "source": [
    "Vemos que tenemos un doble index asi que\n",
    "eliminamos el doble indice que tiene la colmna"
   ]
  },
  {
   "cell_type": "code",
   "execution_count": 152,
   "metadata": {},
   "outputs": [],
   "source": [
    "diamantes_train = diamantes_train.drop(['Unnamed: 0'],axis =1)"
   ]
  },
  {
   "cell_type": "code",
   "execution_count": 153,
   "metadata": {},
   "outputs": [
    {
     "data": {
      "text/html": [
       "<div>\n",
       "<style scoped>\n",
       "    .dataframe tbody tr th:only-of-type {\n",
       "        vertical-align: middle;\n",
       "    }\n",
       "\n",
       "    .dataframe tbody tr th {\n",
       "        vertical-align: top;\n",
       "    }\n",
       "\n",
       "    .dataframe thead th {\n",
       "        text-align: right;\n",
       "    }\n",
       "</style>\n",
       "<table border=\"1\" class=\"dataframe\">\n",
       "  <thead>\n",
       "    <tr style=\"text-align: right;\">\n",
       "      <th></th>\n",
       "      <th>carat</th>\n",
       "      <th>cut</th>\n",
       "      <th>color</th>\n",
       "      <th>clarity</th>\n",
       "      <th>depth</th>\n",
       "      <th>table</th>\n",
       "      <th>x</th>\n",
       "      <th>y</th>\n",
       "      <th>z</th>\n",
       "      <th>price</th>\n",
       "    </tr>\n",
       "  </thead>\n",
       "  <tbody>\n",
       "    <tr>\n",
       "      <th>0</th>\n",
       "      <td>1.21</td>\n",
       "      <td>Ideal</td>\n",
       "      <td>H</td>\n",
       "      <td>VS2</td>\n",
       "      <td>63.0</td>\n",
       "      <td>57.0</td>\n",
       "      <td>6.73</td>\n",
       "      <td>6.70</td>\n",
       "      <td>4.23</td>\n",
       "      <td>6134</td>\n",
       "    </tr>\n",
       "    <tr>\n",
       "      <th>1</th>\n",
       "      <td>0.28</td>\n",
       "      <td>Very Good</td>\n",
       "      <td>D</td>\n",
       "      <td>VVS2</td>\n",
       "      <td>64.0</td>\n",
       "      <td>56.0</td>\n",
       "      <td>4.14</td>\n",
       "      <td>4.17</td>\n",
       "      <td>2.66</td>\n",
       "      <td>532</td>\n",
       "    </tr>\n",
       "    <tr>\n",
       "      <th>2</th>\n",
       "      <td>0.42</td>\n",
       "      <td>Premium</td>\n",
       "      <td>F</td>\n",
       "      <td>VS1</td>\n",
       "      <td>61.2</td>\n",
       "      <td>58.0</td>\n",
       "      <td>4.86</td>\n",
       "      <td>4.82</td>\n",
       "      <td>2.96</td>\n",
       "      <td>1103</td>\n",
       "    </tr>\n",
       "    <tr>\n",
       "      <th>3</th>\n",
       "      <td>0.26</td>\n",
       "      <td>Ideal</td>\n",
       "      <td>H</td>\n",
       "      <td>IF</td>\n",
       "      <td>61.1</td>\n",
       "      <td>57.0</td>\n",
       "      <td>4.16</td>\n",
       "      <td>4.12</td>\n",
       "      <td>2.53</td>\n",
       "      <td>600</td>\n",
       "    </tr>\n",
       "    <tr>\n",
       "      <th>4</th>\n",
       "      <td>1.10</td>\n",
       "      <td>Good</td>\n",
       "      <td>G</td>\n",
       "      <td>SI1</td>\n",
       "      <td>63.4</td>\n",
       "      <td>57.0</td>\n",
       "      <td>6.52</td>\n",
       "      <td>6.55</td>\n",
       "      <td>4.14</td>\n",
       "      <td>4997</td>\n",
       "    </tr>\n",
       "  </tbody>\n",
       "</table>\n",
       "</div>"
      ],
      "text/plain": [
       "   carat        cut color clarity  depth  table     x     y     z  price\n",
       "0   1.21      Ideal     H     VS2   63.0   57.0  6.73  6.70  4.23   6134\n",
       "1   0.28  Very Good     D    VVS2   64.0   56.0  4.14  4.17  2.66    532\n",
       "2   0.42    Premium     F     VS1   61.2   58.0  4.86  4.82  2.96   1103\n",
       "3   0.26      Ideal     H      IF   61.1   57.0  4.16  4.12  2.53    600\n",
       "4   1.10       Good     G     SI1   63.4   57.0  6.52  6.55  4.14   4997"
      ]
     },
     "metadata": {},
     "output_type": "display_data"
    },
    {
     "data": {
      "text/plain": [
       "(40345, 10)"
      ]
     },
     "metadata": {},
     "output_type": "display_data"
    },
    {
     "data": {
      "text/html": [
       "<div>\n",
       "<style scoped>\n",
       "    .dataframe tbody tr th:only-of-type {\n",
       "        vertical-align: middle;\n",
       "    }\n",
       "\n",
       "    .dataframe tbody tr th {\n",
       "        vertical-align: top;\n",
       "    }\n",
       "\n",
       "    .dataframe thead th {\n",
       "        text-align: right;\n",
       "    }\n",
       "</style>\n",
       "<table border=\"1\" class=\"dataframe\">\n",
       "  <thead>\n",
       "    <tr style=\"text-align: right;\">\n",
       "      <th></th>\n",
       "      <th>carat</th>\n",
       "      <th>depth</th>\n",
       "      <th>table</th>\n",
       "      <th>x</th>\n",
       "      <th>y</th>\n",
       "      <th>z</th>\n",
       "      <th>price</th>\n",
       "    </tr>\n",
       "  </thead>\n",
       "  <tbody>\n",
       "    <tr>\n",
       "      <th>count</th>\n",
       "      <td>40345.000000</td>\n",
       "      <td>40345.000000</td>\n",
       "      <td>40345.000000</td>\n",
       "      <td>40345.000000</td>\n",
       "      <td>40345.000000</td>\n",
       "      <td>40345.000000</td>\n",
       "      <td>40345.000000</td>\n",
       "    </tr>\n",
       "    <tr>\n",
       "      <th>mean</th>\n",
       "      <td>0.795652</td>\n",
       "      <td>61.750413</td>\n",
       "      <td>57.460302</td>\n",
       "      <td>5.726106</td>\n",
       "      <td>5.730217</td>\n",
       "      <td>3.535136</td>\n",
       "      <td>3924.089924</td>\n",
       "    </tr>\n",
       "    <tr>\n",
       "      <th>std</th>\n",
       "      <td>0.470806</td>\n",
       "      <td>1.424219</td>\n",
       "      <td>2.235333</td>\n",
       "      <td>1.118690</td>\n",
       "      <td>1.148584</td>\n",
       "      <td>0.693662</td>\n",
       "      <td>3982.000515</td>\n",
       "    </tr>\n",
       "    <tr>\n",
       "      <th>min</th>\n",
       "      <td>0.200000</td>\n",
       "      <td>43.000000</td>\n",
       "      <td>43.000000</td>\n",
       "      <td>0.000000</td>\n",
       "      <td>0.000000</td>\n",
       "      <td>0.000000</td>\n",
       "      <td>326.000000</td>\n",
       "    </tr>\n",
       "    <tr>\n",
       "      <th>25%</th>\n",
       "      <td>0.400000</td>\n",
       "      <td>61.000000</td>\n",
       "      <td>56.000000</td>\n",
       "      <td>4.710000</td>\n",
       "      <td>4.720000</td>\n",
       "      <td>2.910000</td>\n",
       "      <td>948.000000</td>\n",
       "    </tr>\n",
       "    <tr>\n",
       "      <th>50%</th>\n",
       "      <td>0.700000</td>\n",
       "      <td>61.800000</td>\n",
       "      <td>57.000000</td>\n",
       "      <td>5.690000</td>\n",
       "      <td>5.710000</td>\n",
       "      <td>3.520000</td>\n",
       "      <td>2395.000000</td>\n",
       "    </tr>\n",
       "    <tr>\n",
       "      <th>75%</th>\n",
       "      <td>1.040000</td>\n",
       "      <td>62.500000</td>\n",
       "      <td>59.000000</td>\n",
       "      <td>6.540000</td>\n",
       "      <td>6.530000</td>\n",
       "      <td>4.030000</td>\n",
       "      <td>5313.000000</td>\n",
       "    </tr>\n",
       "    <tr>\n",
       "      <th>max</th>\n",
       "      <td>4.010000</td>\n",
       "      <td>79.000000</td>\n",
       "      <td>95.000000</td>\n",
       "      <td>10.020000</td>\n",
       "      <td>58.900000</td>\n",
       "      <td>8.060000</td>\n",
       "      <td>18818.000000</td>\n",
       "    </tr>\n",
       "  </tbody>\n",
       "</table>\n",
       "</div>"
      ],
      "text/plain": [
       "              carat         depth         table             x             y  \\\n",
       "count  40345.000000  40345.000000  40345.000000  40345.000000  40345.000000   \n",
       "mean       0.795652     61.750413     57.460302      5.726106      5.730217   \n",
       "std        0.470806      1.424219      2.235333      1.118690      1.148584   \n",
       "min        0.200000     43.000000     43.000000      0.000000      0.000000   \n",
       "25%        0.400000     61.000000     56.000000      4.710000      4.720000   \n",
       "50%        0.700000     61.800000     57.000000      5.690000      5.710000   \n",
       "75%        1.040000     62.500000     59.000000      6.540000      6.530000   \n",
       "max        4.010000     79.000000     95.000000     10.020000     58.900000   \n",
       "\n",
       "                  z         price  \n",
       "count  40345.000000  40345.000000  \n",
       "mean       3.535136   3924.089924  \n",
       "std        0.693662   3982.000515  \n",
       "min        0.000000    326.000000  \n",
       "25%        2.910000    948.000000  \n",
       "50%        3.520000   2395.000000  \n",
       "75%        4.030000   5313.000000  \n",
       "max        8.060000  18818.000000  "
      ]
     },
     "execution_count": 153,
     "metadata": {},
     "output_type": "execute_result"
    }
   ],
   "source": [
    "display(diamantes_train.head(),diamantes_train.shape)\n",
    "diamantes_train.describe()"
   ]
  },
  {
   "cell_type": "markdown",
   "metadata": {},
   "source": [
    "Vemos los elementos de  las columnas \"cut\",\"clarity\" y \"color\""
   ]
  },
  {
   "cell_type": "code",
   "execution_count": 154,
   "metadata": {},
   "outputs": [
    {
     "name": "stdout",
     "output_type": "stream",
     "text": [
      "Columna cut: ['Ideal' 'Very Good' 'Premium' 'Good' 'Fair']\n",
      "Columna clarity: ['VS2' 'VVS2' 'VS1' 'IF' 'SI1' 'SI2' 'VVS1' 'I1']\n",
      "Columna color: ['H' 'D' 'F' 'G' 'I' 'E' 'J']\n"
     ]
    }
   ],
   "source": [
    "print(f\"Columna cut: {diamantes_train['cut'].unique()}\\nColumna clarity: {diamantes_train['clarity'].unique()}\\nColumna color: {diamantes_train['color'].unique()}\") \n"
   ]
  },
  {
   "cell_type": "markdown",
   "metadata": {},
   "source": [
    "Vamos a ver si hay alguna columna con valores nulos\n"
   ]
  },
  {
   "cell_type": "code",
   "execution_count": 155,
   "metadata": {},
   "outputs": [
    {
     "name": "stdout",
     "output_type": "stream",
     "text": [
      "<class 'pandas.core.frame.DataFrame'>\n",
      "RangeIndex: 40345 entries, 0 to 40344\n",
      "Data columns (total 10 columns):\n",
      " #   Column   Non-Null Count  Dtype  \n",
      "---  ------   --------------  -----  \n",
      " 0   carat    40345 non-null  float64\n",
      " 1   cut      40345 non-null  object \n",
      " 2   color    40345 non-null  object \n",
      " 3   clarity  40345 non-null  object \n",
      " 4   depth    40345 non-null  float64\n",
      " 5   table    40345 non-null  float64\n",
      " 6   x        40345 non-null  float64\n",
      " 7   y        40345 non-null  float64\n",
      " 8   z        40345 non-null  float64\n",
      " 9   price    40345 non-null  int64  \n",
      "dtypes: float64(6), int64(1), object(3)\n",
      "memory usage: 3.1+ MB\n"
     ]
    }
   ],
   "source": [
    "diamantes_train.info()"
   ]
  },
  {
   "cell_type": "markdown",
   "metadata": {},
   "source": [
    "Hago categoricas las columnas que tienen tipo object.Y los pasamos a valores numéricos"
   ]
  },
  {
   "cell_type": "code",
   "execution_count": 156,
   "metadata": {},
   "outputs": [
    {
     "data": {
      "text/html": [
       "<div>\n",
       "<style scoped>\n",
       "    .dataframe tbody tr th:only-of-type {\n",
       "        vertical-align: middle;\n",
       "    }\n",
       "\n",
       "    .dataframe tbody tr th {\n",
       "        vertical-align: top;\n",
       "    }\n",
       "\n",
       "    .dataframe thead th {\n",
       "        text-align: right;\n",
       "    }\n",
       "</style>\n",
       "<table border=\"1\" class=\"dataframe\">\n",
       "  <thead>\n",
       "    <tr style=\"text-align: right;\">\n",
       "      <th></th>\n",
       "      <th>carat</th>\n",
       "      <th>cut</th>\n",
       "      <th>color</th>\n",
       "      <th>clarity</th>\n",
       "      <th>depth</th>\n",
       "      <th>table</th>\n",
       "      <th>x</th>\n",
       "      <th>y</th>\n",
       "      <th>z</th>\n",
       "      <th>price</th>\n",
       "    </tr>\n",
       "  </thead>\n",
       "  <tbody>\n",
       "    <tr>\n",
       "      <th>0</th>\n",
       "      <td>1.21</td>\n",
       "      <td>2</td>\n",
       "      <td>4</td>\n",
       "      <td>5</td>\n",
       "      <td>63.0</td>\n",
       "      <td>57.0</td>\n",
       "      <td>6.73</td>\n",
       "      <td>6.70</td>\n",
       "      <td>4.23</td>\n",
       "      <td>6134</td>\n",
       "    </tr>\n",
       "    <tr>\n",
       "      <th>1</th>\n",
       "      <td>0.28</td>\n",
       "      <td>4</td>\n",
       "      <td>0</td>\n",
       "      <td>7</td>\n",
       "      <td>64.0</td>\n",
       "      <td>56.0</td>\n",
       "      <td>4.14</td>\n",
       "      <td>4.17</td>\n",
       "      <td>2.66</td>\n",
       "      <td>532</td>\n",
       "    </tr>\n",
       "    <tr>\n",
       "      <th>2</th>\n",
       "      <td>0.42</td>\n",
       "      <td>3</td>\n",
       "      <td>2</td>\n",
       "      <td>4</td>\n",
       "      <td>61.2</td>\n",
       "      <td>58.0</td>\n",
       "      <td>4.86</td>\n",
       "      <td>4.82</td>\n",
       "      <td>2.96</td>\n",
       "      <td>1103</td>\n",
       "    </tr>\n",
       "    <tr>\n",
       "      <th>3</th>\n",
       "      <td>0.26</td>\n",
       "      <td>2</td>\n",
       "      <td>4</td>\n",
       "      <td>1</td>\n",
       "      <td>61.1</td>\n",
       "      <td>57.0</td>\n",
       "      <td>4.16</td>\n",
       "      <td>4.12</td>\n",
       "      <td>2.53</td>\n",
       "      <td>600</td>\n",
       "    </tr>\n",
       "    <tr>\n",
       "      <th>4</th>\n",
       "      <td>1.10</td>\n",
       "      <td>1</td>\n",
       "      <td>3</td>\n",
       "      <td>2</td>\n",
       "      <td>63.4</td>\n",
       "      <td>57.0</td>\n",
       "      <td>6.52</td>\n",
       "      <td>6.55</td>\n",
       "      <td>4.14</td>\n",
       "      <td>4997</td>\n",
       "    </tr>\n",
       "  </tbody>\n",
       "</table>\n",
       "</div>"
      ],
      "text/plain": [
       "   carat  cut  color  clarity  depth  table     x     y     z  price\n",
       "0   1.21    2      4        5   63.0   57.0  6.73  6.70  4.23   6134\n",
       "1   0.28    4      0        7   64.0   56.0  4.14  4.17  2.66    532\n",
       "2   0.42    3      2        4   61.2   58.0  4.86  4.82  2.96   1103\n",
       "3   0.26    2      4        1   61.1   57.0  4.16  4.12  2.53    600\n",
       "4   1.10    1      3        2   63.4   57.0  6.52  6.55  4.14   4997"
      ]
     },
     "metadata": {},
     "output_type": "display_data"
    }
   ],
   "source": [
    "diamantes_train = category(diamantes_train)\n",
    "display(diamantes_train.head())"
   ]
  },
  {
   "cell_type": "markdown",
   "metadata": {},
   "source": [
    "Miramos si estan relacionados por lo que se ve no lo estas"
   ]
  },
  {
   "cell_type": "code",
   "execution_count": 157,
   "metadata": {},
   "outputs": [
    {
     "data": {
      "text/html": [
       "<div>\n",
       "<style scoped>\n",
       "    .dataframe tbody tr th:only-of-type {\n",
       "        vertical-align: middle;\n",
       "    }\n",
       "\n",
       "    .dataframe tbody tr th {\n",
       "        vertical-align: top;\n",
       "    }\n",
       "\n",
       "    .dataframe thead th {\n",
       "        text-align: right;\n",
       "    }\n",
       "</style>\n",
       "<table border=\"1\" class=\"dataframe\">\n",
       "  <thead>\n",
       "    <tr style=\"text-align: right;\">\n",
       "      <th></th>\n",
       "      <th>carat</th>\n",
       "      <th>cut</th>\n",
       "      <th>color</th>\n",
       "      <th>clarity</th>\n",
       "      <th>depth</th>\n",
       "      <th>table</th>\n",
       "      <th>x</th>\n",
       "      <th>y</th>\n",
       "      <th>z</th>\n",
       "      <th>price</th>\n",
       "    </tr>\n",
       "  </thead>\n",
       "  <tbody>\n",
       "    <tr>\n",
       "      <th>carat</th>\n",
       "      <td>1.000000</td>\n",
       "      <td>NaN</td>\n",
       "      <td>NaN</td>\n",
       "      <td>NaN</td>\n",
       "      <td>NaN</td>\n",
       "      <td>NaN</td>\n",
       "      <td>0.975077</td>\n",
       "      <td>0.944445</td>\n",
       "      <td>0.967289</td>\n",
       "      <td>0.921887</td>\n",
       "    </tr>\n",
       "    <tr>\n",
       "      <th>cut</th>\n",
       "      <td>NaN</td>\n",
       "      <td>1.0</td>\n",
       "      <td>NaN</td>\n",
       "      <td>NaN</td>\n",
       "      <td>NaN</td>\n",
       "      <td>NaN</td>\n",
       "      <td>NaN</td>\n",
       "      <td>NaN</td>\n",
       "      <td>NaN</td>\n",
       "      <td>NaN</td>\n",
       "    </tr>\n",
       "    <tr>\n",
       "      <th>color</th>\n",
       "      <td>NaN</td>\n",
       "      <td>NaN</td>\n",
       "      <td>1.0</td>\n",
       "      <td>NaN</td>\n",
       "      <td>NaN</td>\n",
       "      <td>NaN</td>\n",
       "      <td>NaN</td>\n",
       "      <td>NaN</td>\n",
       "      <td>NaN</td>\n",
       "      <td>NaN</td>\n",
       "    </tr>\n",
       "    <tr>\n",
       "      <th>clarity</th>\n",
       "      <td>NaN</td>\n",
       "      <td>NaN</td>\n",
       "      <td>NaN</td>\n",
       "      <td>1.0</td>\n",
       "      <td>NaN</td>\n",
       "      <td>NaN</td>\n",
       "      <td>NaN</td>\n",
       "      <td>NaN</td>\n",
       "      <td>NaN</td>\n",
       "      <td>NaN</td>\n",
       "    </tr>\n",
       "    <tr>\n",
       "      <th>depth</th>\n",
       "      <td>NaN</td>\n",
       "      <td>NaN</td>\n",
       "      <td>NaN</td>\n",
       "      <td>NaN</td>\n",
       "      <td>1.0</td>\n",
       "      <td>NaN</td>\n",
       "      <td>NaN</td>\n",
       "      <td>NaN</td>\n",
       "      <td>NaN</td>\n",
       "      <td>NaN</td>\n",
       "    </tr>\n",
       "    <tr>\n",
       "      <th>table</th>\n",
       "      <td>NaN</td>\n",
       "      <td>NaN</td>\n",
       "      <td>NaN</td>\n",
       "      <td>NaN</td>\n",
       "      <td>NaN</td>\n",
       "      <td>1.0</td>\n",
       "      <td>NaN</td>\n",
       "      <td>NaN</td>\n",
       "      <td>NaN</td>\n",
       "      <td>NaN</td>\n",
       "    </tr>\n",
       "    <tr>\n",
       "      <th>x</th>\n",
       "      <td>0.975077</td>\n",
       "      <td>NaN</td>\n",
       "      <td>NaN</td>\n",
       "      <td>NaN</td>\n",
       "      <td>NaN</td>\n",
       "      <td>NaN</td>\n",
       "      <td>1.000000</td>\n",
       "      <td>0.966827</td>\n",
       "      <td>0.985080</td>\n",
       "      <td>0.883163</td>\n",
       "    </tr>\n",
       "    <tr>\n",
       "      <th>y</th>\n",
       "      <td>0.944445</td>\n",
       "      <td>NaN</td>\n",
       "      <td>NaN</td>\n",
       "      <td>NaN</td>\n",
       "      <td>NaN</td>\n",
       "      <td>NaN</td>\n",
       "      <td>0.966827</td>\n",
       "      <td>1.000000</td>\n",
       "      <td>0.959957</td>\n",
       "      <td>0.857564</td>\n",
       "    </tr>\n",
       "    <tr>\n",
       "      <th>z</th>\n",
       "      <td>0.967289</td>\n",
       "      <td>NaN</td>\n",
       "      <td>NaN</td>\n",
       "      <td>NaN</td>\n",
       "      <td>NaN</td>\n",
       "      <td>NaN</td>\n",
       "      <td>0.985080</td>\n",
       "      <td>0.959957</td>\n",
       "      <td>1.000000</td>\n",
       "      <td>0.872855</td>\n",
       "    </tr>\n",
       "    <tr>\n",
       "      <th>price</th>\n",
       "      <td>0.921887</td>\n",
       "      <td>NaN</td>\n",
       "      <td>NaN</td>\n",
       "      <td>NaN</td>\n",
       "      <td>NaN</td>\n",
       "      <td>NaN</td>\n",
       "      <td>0.883163</td>\n",
       "      <td>0.857564</td>\n",
       "      <td>0.872855</td>\n",
       "      <td>1.000000</td>\n",
       "    </tr>\n",
       "  </tbody>\n",
       "</table>\n",
       "</div>"
      ],
      "text/plain": [
       "            carat  cut  color  clarity  depth  table         x         y  \\\n",
       "carat    1.000000  NaN    NaN      NaN    NaN    NaN  0.975077  0.944445   \n",
       "cut           NaN  1.0    NaN      NaN    NaN    NaN       NaN       NaN   \n",
       "color         NaN  NaN    1.0      NaN    NaN    NaN       NaN       NaN   \n",
       "clarity       NaN  NaN    NaN      1.0    NaN    NaN       NaN       NaN   \n",
       "depth         NaN  NaN    NaN      NaN    1.0    NaN       NaN       NaN   \n",
       "table         NaN  NaN    NaN      NaN    NaN    1.0       NaN       NaN   \n",
       "x        0.975077  NaN    NaN      NaN    NaN    NaN  1.000000  0.966827   \n",
       "y        0.944445  NaN    NaN      NaN    NaN    NaN  0.966827  1.000000   \n",
       "z        0.967289  NaN    NaN      NaN    NaN    NaN  0.985080  0.959957   \n",
       "price    0.921887  NaN    NaN      NaN    NaN    NaN  0.883163  0.857564   \n",
       "\n",
       "                z     price  \n",
       "carat    0.967289  0.921887  \n",
       "cut           NaN       NaN  \n",
       "color         NaN       NaN  \n",
       "clarity       NaN       NaN  \n",
       "depth         NaN       NaN  \n",
       "table         NaN       NaN  \n",
       "x        0.985080  0.883163  \n",
       "y        0.959957  0.857564  \n",
       "z        1.000000  0.872855  \n",
       "price    0.872855  1.000000  "
      ]
     },
     "execution_count": 157,
     "metadata": {},
     "output_type": "execute_result"
    }
   ],
   "source": [
    "corr_ma = diamantes_train.corr()\n",
    "corr_ma[corr_ma>0.8]"
   ]
  },
  {
   "cell_type": "code",
   "execution_count": 158,
   "metadata": {},
   "outputs": [
    {
     "data": {
      "text/plain": [
       "<matplotlib.axes._subplots.AxesSubplot at 0x7fe076d52588>"
      ]
     },
     "execution_count": 158,
     "metadata": {},
     "output_type": "execute_result"
    },
    {
     "data": {
      "image/png": "[encoded data removed]",
      "text/plain": [
       "<Figure size 720x504 with 2 Axes>"
      ]
     },
     "metadata": {
      "needs_background": "light"
     },
     "output_type": "display_data"
    }
   ],
   "source": [
    "mask = np.zeros_like(corr_ma, dtype=np.bool)\n",
    "mask[np.triu_indices_from(mask)] = True\n",
    "f, ax = plt.subplots(figsize=(10, 7))\n",
    "cmap = sns.diverging_palette(220, 10, as_cmap=True)\n",
    "sns.heatmap(corr_ma, mask=mask, cmap=cmap, vmax=.3, center=0,\n",
    "            square=True, linewidths=.5, cbar_kws={\"shrink\": .5})"
   ]
  },
  {
   "cell_type": "markdown",
   "metadata": {},
   "source": [
    "Divido Diamantes en la X y la y para la prueba"
   ]
  },
  {
   "cell_type": "code",
   "execution_count": 159,
   "metadata": {},
   "outputs": [
    {
     "data": {
      "text/html": [
       "<div>\n",
       "<style scoped>\n",
       "    .dataframe tbody tr th:only-of-type {\n",
       "        vertical-align: middle;\n",
       "    }\n",
       "\n",
       "    .dataframe tbody tr th {\n",
       "        vertical-align: top;\n",
       "    }\n",
       "\n",
       "    .dataframe thead th {\n",
       "        text-align: right;\n",
       "    }\n",
       "</style>\n",
       "<table border=\"1\" class=\"dataframe\">\n",
       "  <thead>\n",
       "    <tr style=\"text-align: right;\">\n",
       "      <th></th>\n",
       "      <th>carat</th>\n",
       "      <th>clarity</th>\n",
       "      <th>color</th>\n",
       "      <th>cut</th>\n",
       "      <th>depth</th>\n",
       "      <th>table</th>\n",
       "      <th>x</th>\n",
       "      <th>y</th>\n",
       "      <th>z</th>\n",
       "    </tr>\n",
       "  </thead>\n",
       "  <tbody>\n",
       "    <tr>\n",
       "      <th>0</th>\n",
       "      <td>1.21</td>\n",
       "      <td>5</td>\n",
       "      <td>4</td>\n",
       "      <td>2</td>\n",
       "      <td>63.0</td>\n",
       "      <td>57.0</td>\n",
       "      <td>6.73</td>\n",
       "      <td>6.70</td>\n",
       "      <td>4.23</td>\n",
       "    </tr>\n",
       "    <tr>\n",
       "      <th>1</th>\n",
       "      <td>0.28</td>\n",
       "      <td>7</td>\n",
       "      <td>0</td>\n",
       "      <td>4</td>\n",
       "      <td>64.0</td>\n",
       "      <td>56.0</td>\n",
       "      <td>4.14</td>\n",
       "      <td>4.17</td>\n",
       "      <td>2.66</td>\n",
       "    </tr>\n",
       "    <tr>\n",
       "      <th>2</th>\n",
       "      <td>0.42</td>\n",
       "      <td>4</td>\n",
       "      <td>2</td>\n",
       "      <td>3</td>\n",
       "      <td>61.2</td>\n",
       "      <td>58.0</td>\n",
       "      <td>4.86</td>\n",
       "      <td>4.82</td>\n",
       "      <td>2.96</td>\n",
       "    </tr>\n",
       "    <tr>\n",
       "      <th>3</th>\n",
       "      <td>0.26</td>\n",
       "      <td>1</td>\n",
       "      <td>4</td>\n",
       "      <td>2</td>\n",
       "      <td>61.1</td>\n",
       "      <td>57.0</td>\n",
       "      <td>4.16</td>\n",
       "      <td>4.12</td>\n",
       "      <td>2.53</td>\n",
       "    </tr>\n",
       "    <tr>\n",
       "      <th>4</th>\n",
       "      <td>1.10</td>\n",
       "      <td>2</td>\n",
       "      <td>3</td>\n",
       "      <td>1</td>\n",
       "      <td>63.4</td>\n",
       "      <td>57.0</td>\n",
       "      <td>6.52</td>\n",
       "      <td>6.55</td>\n",
       "      <td>4.14</td>\n",
       "    </tr>\n",
       "  </tbody>\n",
       "</table>\n",
       "</div>"
      ],
      "text/plain": [
       "   carat  clarity  color  cut  depth  table     x     y     z\n",
       "0   1.21        5      4    2   63.0   57.0  6.73  6.70  4.23\n",
       "1   0.28        7      0    4   64.0   56.0  4.14  4.17  2.66\n",
       "2   0.42        4      2    3   61.2   58.0  4.86  4.82  2.96\n",
       "3   0.26        1      4    2   61.1   57.0  4.16  4.12  2.53\n",
       "4   1.10        2      3    1   63.4   57.0  6.52  6.55  4.14"
      ]
     },
     "metadata": {},
     "output_type": "display_data"
    },
    {
     "data": {
      "text/plain": [
       "0    6134\n",
       "1     532\n",
       "2    1103\n",
       "3     600\n",
       "4    4997\n",
       "Name: price, dtype: int64"
      ]
     },
     "metadata": {},
     "output_type": "display_data"
    },
    {
     "data": {
      "text/plain": [
       "(40345, 9)"
      ]
     },
     "metadata": {},
     "output_type": "display_data"
    }
   ],
   "source": [
    "#diamantes_train = diamantes_train.drop([\"x\",\"y\",\"z\"],axis =1)\n",
    "\n",
    "\n",
    "X_diamantes = diamantes_train[diamantes_train.columns.difference([\"price\"])]\n",
    "y_diamantes = diamantes_train[\"price\"]\n",
    "display(X_diamantes.head(),y_diamantes.head(),X_diamantes.shape)"
   ]
  },
  {
   "cell_type": "markdown",
   "metadata": {},
   "source": [
    "Vamos a estandarizar y normalizar los valores"
   ]
  },
  {
   "cell_type": "code",
   "execution_count": 163,
   "metadata": {},
   "outputs": [
    {
     "data": {
      "text/plain": [
       "(40345, 9)"
      ]
     },
     "metadata": {},
     "output_type": "display_data"
    },
    {
     "data": {
      "text/html": [
       "<div>\n",
       "<style scoped>\n",
       "    .dataframe tbody tr th:only-of-type {\n",
       "        vertical-align: middle;\n",
       "    }\n",
       "\n",
       "    .dataframe tbody tr th {\n",
       "        vertical-align: top;\n",
       "    }\n",
       "\n",
       "    .dataframe thead th {\n",
       "        text-align: right;\n",
       "    }\n",
       "</style>\n",
       "<table border=\"1\" class=\"dataframe\">\n",
       "  <thead>\n",
       "    <tr style=\"text-align: right;\">\n",
       "      <th></th>\n",
       "      <th>carat</th>\n",
       "      <th>clarity</th>\n",
       "      <th>color</th>\n",
       "      <th>cut</th>\n",
       "      <th>depth</th>\n",
       "      <th>table</th>\n",
       "      <th>x</th>\n",
       "      <th>y</th>\n",
       "      <th>z</th>\n",
       "    </tr>\n",
       "  </thead>\n",
       "  <tbody>\n",
       "    <tr>\n",
       "      <th>0</th>\n",
       "      <td>0.373775</td>\n",
       "      <td>0.284826</td>\n",
       "      <td>0.354055</td>\n",
       "      <td>-0.229056</td>\n",
       "      <td>0.372630</td>\n",
       "      <td>-0.087456</td>\n",
       "      <td>0.381123</td>\n",
       "      <td>0.358591</td>\n",
       "      <td>0.425441</td>\n",
       "    </tr>\n",
       "    <tr>\n",
       "      <th>1</th>\n",
       "      <td>-0.263949</td>\n",
       "      <td>0.440322</td>\n",
       "      <td>-0.367732</td>\n",
       "      <td>0.339378</td>\n",
       "      <td>0.380656</td>\n",
       "      <td>-0.157437</td>\n",
       "      <td>-0.341687</td>\n",
       "      <td>-0.327362</td>\n",
       "      <td>-0.304042</td>\n",
       "    </tr>\n",
       "    <tr>\n",
       "      <th>2</th>\n",
       "      <td>-0.454918</td>\n",
       "      <td>0.052690</td>\n",
       "      <td>-0.197343</td>\n",
       "      <td>0.247706</td>\n",
       "      <td>-0.220344</td>\n",
       "      <td>0.137657</td>\n",
       "      <td>-0.441419</td>\n",
       "      <td>-0.451826</td>\n",
       "      <td>-0.472729</td>\n",
       "    </tr>\n",
       "    <tr>\n",
       "      <th>3</th>\n",
       "      <td>-0.339158</td>\n",
       "      <td>-0.489563</td>\n",
       "      <td>0.248510</td>\n",
       "      <td>-0.160774</td>\n",
       "      <td>-0.136136</td>\n",
       "      <td>-0.061385</td>\n",
       "      <td>-0.417323</td>\n",
       "      <td>-0.417910</td>\n",
       "      <td>-0.431955</td>\n",
       "    </tr>\n",
       "    <tr>\n",
       "      <th>4</th>\n",
       "      <td>0.243354</td>\n",
       "      <td>-0.400564</td>\n",
       "      <td>0.091765</td>\n",
       "      <td>-0.569616</td>\n",
       "      <td>0.436022</td>\n",
       "      <td>-0.077519</td>\n",
       "      <td>0.267155</td>\n",
       "      <td>0.268687</td>\n",
       "      <td>0.328261</td>\n",
       "    </tr>\n",
       "    <tr>\n",
       "      <th>...</th>\n",
       "      <td>...</td>\n",
       "      <td>...</td>\n",
       "      <td>...</td>\n",
       "      <td>...</td>\n",
       "      <td>...</td>\n",
       "      <td>...</td>\n",
       "      <td>...</td>\n",
       "      <td>...</td>\n",
       "      <td>...</td>\n",
       "    </tr>\n",
       "    <tr>\n",
       "      <th>40340</th>\n",
       "      <td>0.442022</td>\n",
       "      <td>0.185015</td>\n",
       "      <td>0.229984</td>\n",
       "      <td>0.119856</td>\n",
       "      <td>-0.087247</td>\n",
       "      <td>0.436856</td>\n",
       "      <td>0.427589</td>\n",
       "      <td>0.398660</td>\n",
       "      <td>0.403622</td>\n",
       "    </tr>\n",
       "    <tr>\n",
       "      <th>40341</th>\n",
       "      <td>-0.311788</td>\n",
       "      <td>-0.358528</td>\n",
       "      <td>-0.514146</td>\n",
       "      <td>-0.181725</td>\n",
       "      <td>-0.272169</td>\n",
       "      <td>-0.220121</td>\n",
       "      <td>-0.345204</td>\n",
       "      <td>-0.322758</td>\n",
       "      <td>-0.361951</td>\n",
       "    </tr>\n",
       "    <tr>\n",
       "      <th>40342</th>\n",
       "      <td>-0.190393</td>\n",
       "      <td>0.266408</td>\n",
       "      <td>0.565486</td>\n",
       "      <td>0.559412</td>\n",
       "      <td>0.125398</td>\n",
       "      <td>-0.437220</td>\n",
       "      <td>-0.140655</td>\n",
       "      <td>-0.134958</td>\n",
       "      <td>-0.123203</td>\n",
       "    </tr>\n",
       "    <tr>\n",
       "      <th>40343</th>\n",
       "      <td>0.128144</td>\n",
       "      <td>-0.462241</td>\n",
       "      <td>-0.097421</td>\n",
       "      <td>0.396369</td>\n",
       "      <td>-0.424978</td>\n",
       "      <td>0.571618</td>\n",
       "      <td>0.187164</td>\n",
       "      <td>0.203340</td>\n",
       "      <td>0.139933</td>\n",
       "    </tr>\n",
       "    <tr>\n",
       "      <th>40344</th>\n",
       "      <td>-0.305531</td>\n",
       "      <td>-0.273352</td>\n",
       "      <td>-0.526659</td>\n",
       "      <td>-0.303461</td>\n",
       "      <td>-0.533505</td>\n",
       "      <td>-0.115864</td>\n",
       "      <td>-0.199228</td>\n",
       "      <td>-0.225449</td>\n",
       "      <td>-0.271846</td>\n",
       "    </tr>\n",
       "  </tbody>\n",
       "</table>\n",
       "<p>40345 rows × 9 columns</p>\n",
       "</div>"
      ],
      "text/plain": [
       "          carat   clarity     color       cut     depth     table         x  \\\n",
       "0      0.373775  0.284826  0.354055 -0.229056  0.372630 -0.087456  0.381123   \n",
       "1     -0.263949  0.440322 -0.367732  0.339378  0.380656 -0.157437 -0.341687   \n",
       "2     -0.454918  0.052690 -0.197343  0.247706 -0.220344  0.137657 -0.441419   \n",
       "3     -0.339158 -0.489563  0.248510 -0.160774 -0.136136 -0.061385 -0.417323   \n",
       "4      0.243354 -0.400564  0.091765 -0.569616  0.436022 -0.077519  0.267155   \n",
       "...         ...       ...       ...       ...       ...       ...       ...   \n",
       "40340  0.442022  0.185015  0.229984  0.119856 -0.087247  0.436856  0.427589   \n",
       "40341 -0.311788 -0.358528 -0.514146 -0.181725 -0.272169 -0.220121 -0.345204   \n",
       "40342 -0.190393  0.266408  0.565486  0.559412  0.125398 -0.437220 -0.140655   \n",
       "40343  0.128144 -0.462241 -0.097421  0.396369 -0.424978  0.571618  0.187164   \n",
       "40344 -0.305531 -0.273352 -0.526659 -0.303461 -0.533505 -0.115864 -0.199228   \n",
       "\n",
       "              y         z  \n",
       "0      0.358591  0.425441  \n",
       "1     -0.327362 -0.304042  \n",
       "2     -0.451826 -0.472729  \n",
       "3     -0.417910 -0.431955  \n",
       "4      0.268687  0.328261  \n",
       "...         ...       ...  \n",
       "40340  0.398660  0.403622  \n",
       "40341 -0.322758 -0.361951  \n",
       "40342 -0.134958 -0.123203  \n",
       "40343  0.203340  0.139933  \n",
       "40344 -0.225449 -0.271846  \n",
       "\n",
       "[40345 rows x 9 columns]"
      ]
     },
     "metadata": {},
     "output_type": "display_data"
    }
   ],
   "source": [
    "def stand_Normalize(df):\n",
    "    pipeline = [    \n",
    "        StandardScaler(),\n",
    "        Normalizer(),]\n",
    "    transformer = make_pipeline(*pipeline)\n",
    "    X_new = transformer.fit_transform(df)\n",
    "    return pd.DataFrame(X_new, columns=df.columns)\n",
    "\n",
    "diamantes = stand_Normalize(X_diamantes)\n",
    "display(diamantes.shape)\n",
    "display(diamantes)"
   ]
  },
  {
   "cell_type": "code",
   "execution_count": 164,
   "metadata": {},
   "outputs": [
    {
     "data": {
      "text/html": [
       "<div>\n",
       "<style scoped>\n",
       "    .dataframe tbody tr th:only-of-type {\n",
       "        vertical-align: middle;\n",
       "    }\n",
       "\n",
       "    .dataframe tbody tr th {\n",
       "        vertical-align: top;\n",
       "    }\n",
       "\n",
       "    .dataframe thead th {\n",
       "        text-align: right;\n",
       "    }\n",
       "</style>\n",
       "<table border=\"1\" class=\"dataframe\">\n",
       "  <thead>\n",
       "    <tr style=\"text-align: right;\">\n",
       "      <th></th>\n",
       "      <th>carat</th>\n",
       "      <th>cut</th>\n",
       "      <th>color</th>\n",
       "      <th>clarity</th>\n",
       "      <th>depth</th>\n",
       "      <th>table</th>\n",
       "      <th>x</th>\n",
       "      <th>y</th>\n",
       "      <th>z</th>\n",
       "    </tr>\n",
       "  </thead>\n",
       "  <tbody>\n",
       "    <tr>\n",
       "      <th>0</th>\n",
       "      <td>0.373775</td>\n",
       "      <td>-0.229056</td>\n",
       "      <td>0.354055</td>\n",
       "      <td>0.284826</td>\n",
       "      <td>0.372630</td>\n",
       "      <td>-0.087456</td>\n",
       "      <td>0.381123</td>\n",
       "      <td>0.358591</td>\n",
       "      <td>0.425441</td>\n",
       "    </tr>\n",
       "    <tr>\n",
       "      <th>1</th>\n",
       "      <td>-0.263949</td>\n",
       "      <td>0.339378</td>\n",
       "      <td>-0.367732</td>\n",
       "      <td>0.440322</td>\n",
       "      <td>0.380656</td>\n",
       "      <td>-0.157437</td>\n",
       "      <td>-0.341687</td>\n",
       "      <td>-0.327362</td>\n",
       "      <td>-0.304042</td>\n",
       "    </tr>\n",
       "    <tr>\n",
       "      <th>2</th>\n",
       "      <td>-0.454918</td>\n",
       "      <td>0.247706</td>\n",
       "      <td>-0.197343</td>\n",
       "      <td>0.052690</td>\n",
       "      <td>-0.220344</td>\n",
       "      <td>0.137657</td>\n",
       "      <td>-0.441419</td>\n",
       "      <td>-0.451826</td>\n",
       "      <td>-0.472729</td>\n",
       "    </tr>\n",
       "    <tr>\n",
       "      <th>3</th>\n",
       "      <td>-0.339158</td>\n",
       "      <td>-0.160774</td>\n",
       "      <td>0.248510</td>\n",
       "      <td>-0.489563</td>\n",
       "      <td>-0.136136</td>\n",
       "      <td>-0.061385</td>\n",
       "      <td>-0.417323</td>\n",
       "      <td>-0.417910</td>\n",
       "      <td>-0.431955</td>\n",
       "    </tr>\n",
       "    <tr>\n",
       "      <th>4</th>\n",
       "      <td>0.243354</td>\n",
       "      <td>-0.569616</td>\n",
       "      <td>0.091765</td>\n",
       "      <td>-0.400564</td>\n",
       "      <td>0.436022</td>\n",
       "      <td>-0.077519</td>\n",
       "      <td>0.267155</td>\n",
       "      <td>0.268687</td>\n",
       "      <td>0.328261</td>\n",
       "    </tr>\n",
       "    <tr>\n",
       "      <th>...</th>\n",
       "      <td>...</td>\n",
       "      <td>...</td>\n",
       "      <td>...</td>\n",
       "      <td>...</td>\n",
       "      <td>...</td>\n",
       "      <td>...</td>\n",
       "      <td>...</td>\n",
       "      <td>...</td>\n",
       "      <td>...</td>\n",
       "    </tr>\n",
       "    <tr>\n",
       "      <th>40340</th>\n",
       "      <td>0.442022</td>\n",
       "      <td>0.119856</td>\n",
       "      <td>0.229984</td>\n",
       "      <td>0.185015</td>\n",
       "      <td>-0.087247</td>\n",
       "      <td>0.436856</td>\n",
       "      <td>0.427589</td>\n",
       "      <td>0.398660</td>\n",
       "      <td>0.403622</td>\n",
       "    </tr>\n",
       "    <tr>\n",
       "      <th>40341</th>\n",
       "      <td>-0.311788</td>\n",
       "      <td>-0.181725</td>\n",
       "      <td>-0.514146</td>\n",
       "      <td>-0.358528</td>\n",
       "      <td>-0.272169</td>\n",
       "      <td>-0.220121</td>\n",
       "      <td>-0.345204</td>\n",
       "      <td>-0.322758</td>\n",
       "      <td>-0.361951</td>\n",
       "    </tr>\n",
       "    <tr>\n",
       "      <th>40342</th>\n",
       "      <td>-0.190393</td>\n",
       "      <td>0.559412</td>\n",
       "      <td>0.565486</td>\n",
       "      <td>0.266408</td>\n",
       "      <td>0.125398</td>\n",
       "      <td>-0.437220</td>\n",
       "      <td>-0.140655</td>\n",
       "      <td>-0.134958</td>\n",
       "      <td>-0.123203</td>\n",
       "    </tr>\n",
       "    <tr>\n",
       "      <th>40343</th>\n",
       "      <td>0.128144</td>\n",
       "      <td>0.396369</td>\n",
       "      <td>-0.097421</td>\n",
       "      <td>-0.462241</td>\n",
       "      <td>-0.424978</td>\n",
       "      <td>0.571618</td>\n",
       "      <td>0.187164</td>\n",
       "      <td>0.203340</td>\n",
       "      <td>0.139933</td>\n",
       "    </tr>\n",
       "    <tr>\n",
       "      <th>40344</th>\n",
       "      <td>-0.305531</td>\n",
       "      <td>-0.303461</td>\n",
       "      <td>-0.526659</td>\n",
       "      <td>-0.273352</td>\n",
       "      <td>-0.533505</td>\n",
       "      <td>-0.115864</td>\n",
       "      <td>-0.199228</td>\n",
       "      <td>-0.225449</td>\n",
       "      <td>-0.271846</td>\n",
       "    </tr>\n",
       "  </tbody>\n",
       "</table>\n",
       "<p>40345 rows × 9 columns</p>\n",
       "</div>"
      ],
      "text/plain": [
       "          carat       cut     color   clarity     depth     table         x  \\\n",
       "0      0.373775 -0.229056  0.354055  0.284826  0.372630 -0.087456  0.381123   \n",
       "1     -0.263949  0.339378 -0.367732  0.440322  0.380656 -0.157437 -0.341687   \n",
       "2     -0.454918  0.247706 -0.197343  0.052690 -0.220344  0.137657 -0.441419   \n",
       "3     -0.339158 -0.160774  0.248510 -0.489563 -0.136136 -0.061385 -0.417323   \n",
       "4      0.243354 -0.569616  0.091765 -0.400564  0.436022 -0.077519  0.267155   \n",
       "...         ...       ...       ...       ...       ...       ...       ...   \n",
       "40340  0.442022  0.119856  0.229984  0.185015 -0.087247  0.436856  0.427589   \n",
       "40341 -0.311788 -0.181725 -0.514146 -0.358528 -0.272169 -0.220121 -0.345204   \n",
       "40342 -0.190393  0.559412  0.565486  0.266408  0.125398 -0.437220 -0.140655   \n",
       "40343  0.128144  0.396369 -0.097421 -0.462241 -0.424978  0.571618  0.187164   \n",
       "40344 -0.305531 -0.303461 -0.526659 -0.273352 -0.533505 -0.115864 -0.199228   \n",
       "\n",
       "              y         z  \n",
       "0      0.358591  0.425441  \n",
       "1     -0.327362 -0.304042  \n",
       "2     -0.451826 -0.472729  \n",
       "3     -0.417910 -0.431955  \n",
       "4      0.268687  0.328261  \n",
       "...         ...       ...  \n",
       "40340  0.398660  0.403622  \n",
       "40341 -0.322758 -0.361951  \n",
       "40342 -0.134958 -0.123203  \n",
       "40343  0.203340  0.139933  \n",
       "40344 -0.225449 -0.271846  \n",
       "\n",
       "[40345 rows x 9 columns]"
      ]
     },
     "execution_count": 164,
     "metadata": {},
     "output_type": "execute_result"
    }
   ],
   "source": [
    "diamantes = diamantes[[\"carat\",\"cut\",\"color\",\"clarity\",\"depth\",\"table\",\"x\",\"y\",\"z\"]]\n",
    "diamantes"
   ]
  },
  {
   "cell_type": "markdown",
   "metadata": {},
   "source": [
    "Ahora voy a pasar el mismo filtro al dataset de test\n"
   ]
  },
  {
   "cell_type": "code",
   "execution_count": 165,
   "metadata": {},
   "outputs": [
    {
     "data": {
      "text/html": [
       "<div>\n",
       "<style scoped>\n",
       "    .dataframe tbody tr th:only-of-type {\n",
       "        vertical-align: middle;\n",
       "    }\n",
       "\n",
       "    .dataframe tbody tr th {\n",
       "        vertical-align: top;\n",
       "    }\n",
       "\n",
       "    .dataframe thead th {\n",
       "        text-align: right;\n",
       "    }\n",
       "</style>\n",
       "<table border=\"1\" class=\"dataframe\">\n",
       "  <thead>\n",
       "    <tr style=\"text-align: right;\">\n",
       "      <th></th>\n",
       "      <th>carat</th>\n",
       "      <th>cut</th>\n",
       "      <th>color</th>\n",
       "      <th>clarity</th>\n",
       "      <th>depth</th>\n",
       "      <th>table</th>\n",
       "      <th>x</th>\n",
       "      <th>y</th>\n",
       "      <th>z</th>\n",
       "    </tr>\n",
       "  </thead>\n",
       "  <tbody>\n",
       "    <tr>\n",
       "      <th>0</th>\n",
       "      <td>-0.310144</td>\n",
       "      <td>-0.159296</td>\n",
       "      <td>0.238419</td>\n",
       "      <td>-0.142234</td>\n",
       "      <td>-0.356076</td>\n",
       "      <td>-0.192714</td>\n",
       "      <td>-0.351051</td>\n",
       "      <td>-0.348603</td>\n",
       "      <td>-0.360622</td>\n",
       "    </tr>\n",
       "    <tr>\n",
       "      <th>1</th>\n",
       "      <td>-0.268371</td>\n",
       "      <td>-0.149719</td>\n",
       "      <td>-0.423262</td>\n",
       "      <td>-0.458743</td>\n",
       "      <td>0.068991</td>\n",
       "      <td>-0.056344</td>\n",
       "      <td>-0.302791</td>\n",
       "      <td>-0.320188</td>\n",
       "      <td>-0.286185</td>\n",
       "    </tr>\n",
       "    <tr>\n",
       "      <th>2</th>\n",
       "      <td>0.374496</td>\n",
       "      <td>0.330308</td>\n",
       "      <td>0.326397</td>\n",
       "      <td>0.161858</td>\n",
       "      <td>-0.234278</td>\n",
       "      <td>0.057884</td>\n",
       "      <td>0.382807</td>\n",
       "      <td>0.378889</td>\n",
       "      <td>0.322075</td>\n",
       "    </tr>\n",
       "    <tr>\n",
       "      <th>3</th>\n",
       "      <td>-0.324259</td>\n",
       "      <td>-0.169916</td>\n",
       "      <td>0.254314</td>\n",
       "      <td>0.217192</td>\n",
       "      <td>0.012853</td>\n",
       "      <td>-0.063944</td>\n",
       "      <td>-0.399670</td>\n",
       "      <td>-0.391593</td>\n",
       "      <td>-0.371834</td>\n",
       "    </tr>\n",
       "    <tr>\n",
       "      <th>4</th>\n",
       "      <td>0.325091</td>\n",
       "      <td>-0.334451</td>\n",
       "      <td>0.307423</td>\n",
       "      <td>0.281919</td>\n",
       "      <td>0.345886</td>\n",
       "      <td>0.253324</td>\n",
       "      <td>0.297625</td>\n",
       "      <td>0.289532</td>\n",
       "      <td>0.324365</td>\n",
       "    </tr>\n",
       "    <tr>\n",
       "      <th>...</th>\n",
       "      <td>...</td>\n",
       "      <td>...</td>\n",
       "      <td>...</td>\n",
       "      <td>...</td>\n",
       "      <td>...</td>\n",
       "      <td>...</td>\n",
       "      <td>...</td>\n",
       "      <td>...</td>\n",
       "      <td>...</td>\n",
       "    </tr>\n",
       "    <tr>\n",
       "      <th>13444</th>\n",
       "      <td>0.184574</td>\n",
       "      <td>-0.194419</td>\n",
       "      <td>-0.129321</td>\n",
       "      <td>-0.173595</td>\n",
       "      <td>-0.359705</td>\n",
       "      <td>-0.397245</td>\n",
       "      <td>0.257566</td>\n",
       "      <td>0.300883</td>\n",
       "      <td>0.215582</td>\n",
       "    </tr>\n",
       "    <tr>\n",
       "      <th>13445</th>\n",
       "      <td>-0.313218</td>\n",
       "      <td>0.396078</td>\n",
       "      <td>0.063130</td>\n",
       "      <td>0.029255</td>\n",
       "      <td>0.030980</td>\n",
       "      <td>-0.183693</td>\n",
       "      <td>-0.404720</td>\n",
       "      <td>-0.400358</td>\n",
       "      <td>-0.378137</td>\n",
       "    </tr>\n",
       "    <tr>\n",
       "      <th>13446</th>\n",
       "      <td>0.371713</td>\n",
       "      <td>0.111253</td>\n",
       "      <td>-0.391062</td>\n",
       "      <td>0.176817</td>\n",
       "      <td>0.010464</td>\n",
       "      <td>0.293817</td>\n",
       "      <td>0.354322</td>\n",
       "      <td>0.372563</td>\n",
       "      <td>0.341396</td>\n",
       "    </tr>\n",
       "    <tr>\n",
       "      <th>13447</th>\n",
       "      <td>0.424808</td>\n",
       "      <td>0.098759</td>\n",
       "      <td>-0.081678</td>\n",
       "      <td>-0.109642</td>\n",
       "      <td>-0.242953</td>\n",
       "      <td>0.363163</td>\n",
       "      <td>0.413740</td>\n",
       "      <td>0.393929</td>\n",
       "      <td>0.343234</td>\n",
       "    </tr>\n",
       "    <tr>\n",
       "      <th>13448</th>\n",
       "      <td>-0.300913</td>\n",
       "      <td>-0.154555</td>\n",
       "      <td>-0.436932</td>\n",
       "      <td>0.197557</td>\n",
       "      <td>-0.107365</td>\n",
       "      <td>-0.058163</td>\n",
       "      <td>-0.371183</td>\n",
       "      <td>-0.361325</td>\n",
       "      <td>-0.353779</td>\n",
       "    </tr>\n",
       "  </tbody>\n",
       "</table>\n",
       "<p>13449 rows × 9 columns</p>\n",
       "</div>"
      ],
      "text/plain": [
       "          carat       cut     color   clarity     depth     table         x  \\\n",
       "0     -0.310144 -0.159296  0.238419 -0.142234 -0.356076 -0.192714 -0.351051   \n",
       "1     -0.268371 -0.149719 -0.423262 -0.458743  0.068991 -0.056344 -0.302791   \n",
       "2      0.374496  0.330308  0.326397  0.161858 -0.234278  0.057884  0.382807   \n",
       "3     -0.324259 -0.169916  0.254314  0.217192  0.012853 -0.063944 -0.399670   \n",
       "4      0.325091 -0.334451  0.307423  0.281919  0.345886  0.253324  0.297625   \n",
       "...         ...       ...       ...       ...       ...       ...       ...   \n",
       "13444  0.184574 -0.194419 -0.129321 -0.173595 -0.359705 -0.397245  0.257566   \n",
       "13445 -0.313218  0.396078  0.063130  0.029255  0.030980 -0.183693 -0.404720   \n",
       "13446  0.371713  0.111253 -0.391062  0.176817  0.010464  0.293817  0.354322   \n",
       "13447  0.424808  0.098759 -0.081678 -0.109642 -0.242953  0.363163  0.413740   \n",
       "13448 -0.300913 -0.154555 -0.436932  0.197557 -0.107365 -0.058163 -0.371183   \n",
       "\n",
       "              y         z  \n",
       "0     -0.348603 -0.360622  \n",
       "1     -0.320188 -0.286185  \n",
       "2      0.378889  0.322075  \n",
       "3     -0.391593 -0.371834  \n",
       "4      0.289532  0.324365  \n",
       "...         ...       ...  \n",
       "13444  0.300883  0.215582  \n",
       "13445 -0.400358 -0.378137  \n",
       "13446  0.372563  0.341396  \n",
       "13447  0.393929  0.343234  \n",
       "13448 -0.361325 -0.353779  \n",
       "\n",
       "[13449 rows x 9 columns]"
      ]
     },
     "metadata": {},
     "output_type": "display_data"
    }
   ],
   "source": [
    "diamantes_testeo = category(diamantes_test)\n",
    "diamantes_testeo = stand_Normalize(diamantes_testeo)\n",
    "diamantes_testeo = diamantes_testeo.drop(['Unnamed: 0'],axis =1)\n",
    "display(diamantes_testeo)"
   ]
  },
  {
   "cell_type": "markdown",
   "metadata": {},
   "source": [
    "# Empezamos las pruebas de entrenamiento"
   ]
  },
  {
   "cell_type": "markdown",
   "metadata": {},
   "source": [
    "## Pruebo el RandomForestRegressor"
   ]
  },
  {
   "cell_type": "code",
   "execution_count": 98,
   "metadata": {},
   "outputs": [
    {
     "name": "stdout",
     "output_type": "stream",
     "text": [
      "1784.5373130057485\n"
     ]
    }
   ],
   "source": [
    "X_train, X_test, y_train, y_test = train_test_split(diamantes,y_diamantes,test_size=0.2)  \n",
    "regr = RandomForestRegressor(max_depth=2, random_state=0)\n",
    "\n",
    "regr = RandomForestRegressor(max_depth=2, random_state=0)\n",
    "paramsRandomForestREgresor = { 'max_depth': [50,230], \n",
    " 'min_samples_leaf': [2, 3],\n",
    " 'min_samples_split': [2, 10],\n",
    " 'n_estimators': [800, 600],\n",
    " \"random_state\": [10,50]}\n",
    "diamantesRFR= regr.fit(X_train, y_train)\n",
    "y_predRandom = regr.predict(X_test)\n",
    "\n",
    "print(mean_squared_error(y_test, y_predRandom, squared=False))\n"
   ]
  },
  {
   "cell_type": "markdown",
   "metadata": {},
   "source": [
    "### Optimizamos RandomForest"
   ]
  },
  {
   "cell_type": "code",
   "execution_count": 166,
   "metadata": {},
   "outputs": [
    {
     "name": "stdout",
     "output_type": "stream",
     "text": [
      "715.7503919958107\n"
     ]
    }
   ],
   "source": [
    "X_train, X_test, y_train, y_test = train_test_split(diamantes,y_diamantes,test_size=0.2)  \n",
    "regr = RandomForestRegressor(bootstrap=True, ccp_alpha=0.0, criterion='mse',\n",
    "                      max_depth=40, max_features='auto', max_leaf_nodes=None,\n",
    "                      max_samples=None, min_impurity_decrease=0.0,\n",
    "                      min_impurity_split=None, min_samples_leaf=1,\n",
    "                      min_samples_split=2, min_weight_fraction_leaf=0.0,\n",
    "                      n_estimators=350, n_jobs=7, oob_score=False,\n",
    "                      random_state=150, verbose=0, warm_start=False)\n",
    "ramdomregr= regr.fit(X_train, y_train)\n",
    "y_predRandomregr = ramdomregr.predict(X_test)\n",
    "print(mean_squared_error(y_test, y_predRandomregr, squared=False))"
   ]
  },
  {
   "cell_type": "code",
   "execution_count": 167,
   "metadata": {},
   "outputs": [],
   "source": [
    "randomOpti = RandomForestRegressor(bootstrap=True, ccp_alpha=0.0, criterion='mse',\n",
    "                      max_depth=30, max_features=\"sqrt\", max_leaf_nodes=None,\n",
    "                      max_samples=None, min_impurity_decrease=0.0,\n",
    "                      min_impurity_split=None, min_samples_leaf=1,\n",
    "                      min_samples_split=2, min_weight_fraction_leaf=0.0,\n",
    "                      n_estimators=370, n_jobs=None, oob_score=False,\n",
    "                      random_state=230, verbose=0, warm_start=False)"
   ]
  },
  {
   "cell_type": "code",
   "execution_count": 168,
   "metadata": {},
   "outputs": [
    {
     "name": "stdout",
     "output_type": "stream",
     "text": [
      "721.5250561385383\n"
     ]
    }
   ],
   "source": [
    "ramdomOptimiza= randomOpti.fit(X_train, y_train)\n",
    "y_predRandomOptim = ramdomOptimiza.predict(X_test)\n",
    "print(mean_squared_error(y_test, y_predRandomOptim, squared=False))\n"
   ]
  },
  {
   "cell_type": "code",
   "execution_count": 175,
   "metadata": {},
   "outputs": [
    {
     "data": {
      "text/plain": [
       "(13449,)"
      ]
     },
     "metadata": {},
     "output_type": "display_data"
    },
    {
     "data": {
      "text/plain": [
       "(13449, 9)"
      ]
     },
     "metadata": {},
     "output_type": "display_data"
    },
    {
     "data": {
      "text/html": [
       "<div>\n",
       "<style scoped>\n",
       "    .dataframe tbody tr th:only-of-type {\n",
       "        vertical-align: middle;\n",
       "    }\n",
       "\n",
       "    .dataframe tbody tr th {\n",
       "        vertical-align: top;\n",
       "    }\n",
       "\n",
       "    .dataframe thead th {\n",
       "        text-align: right;\n",
       "    }\n",
       "</style>\n",
       "<table border=\"1\" class=\"dataframe\">\n",
       "  <thead>\n",
       "    <tr style=\"text-align: right;\">\n",
       "      <th></th>\n",
       "      <th>id</th>\n",
       "      <th>price</th>\n",
       "    </tr>\n",
       "  </thead>\n",
       "  <tbody>\n",
       "    <tr>\n",
       "      <th>0</th>\n",
       "      <td>0</td>\n",
       "      <td>579.331416</td>\n",
       "    </tr>\n",
       "    <tr>\n",
       "      <th>1</th>\n",
       "      <td>1</td>\n",
       "      <td>919.832432</td>\n",
       "    </tr>\n",
       "    <tr>\n",
       "      <th>2</th>\n",
       "      <td>2</td>\n",
       "      <td>8765.570270</td>\n",
       "    </tr>\n",
       "    <tr>\n",
       "      <th>3</th>\n",
       "      <td>3</td>\n",
       "      <td>542.461667</td>\n",
       "    </tr>\n",
       "    <tr>\n",
       "      <th>4</th>\n",
       "      <td>4</td>\n",
       "      <td>7229.589189</td>\n",
       "    </tr>\n",
       "    <tr>\n",
       "      <th>...</th>\n",
       "      <td>...</td>\n",
       "      <td>...</td>\n",
       "    </tr>\n",
       "    <tr>\n",
       "      <th>13444</th>\n",
       "      <td>13444</td>\n",
       "      <td>4922.651351</td>\n",
       "    </tr>\n",
       "    <tr>\n",
       "      <th>13445</th>\n",
       "      <td>13445</td>\n",
       "      <td>561.372973</td>\n",
       "    </tr>\n",
       "    <tr>\n",
       "      <th>13446</th>\n",
       "      <td>13446</td>\n",
       "      <td>12136.632432</td>\n",
       "    </tr>\n",
       "    <tr>\n",
       "      <th>13447</th>\n",
       "      <td>13447</td>\n",
       "      <td>10546.678378</td>\n",
       "    </tr>\n",
       "    <tr>\n",
       "      <th>13448</th>\n",
       "      <td>13448</td>\n",
       "      <td>787.292561</td>\n",
       "    </tr>\n",
       "  </tbody>\n",
       "</table>\n",
       "<p>13449 rows × 2 columns</p>\n",
       "</div>"
      ],
      "text/plain": [
       "          id         price\n",
       "0          0    579.331416\n",
       "1          1    919.832432\n",
       "2          2   8765.570270\n",
       "3          3    542.461667\n",
       "4          4   7229.589189\n",
       "...      ...           ...\n",
       "13444  13444   4922.651351\n",
       "13445  13445    561.372973\n",
       "13446  13446  12136.632432\n",
       "13447  13447  10546.678378\n",
       "13448  13448    787.292561\n",
       "\n",
       "[13449 rows x 2 columns]"
      ]
     },
     "metadata": {},
     "output_type": "display_data"
    }
   ],
   "source": [
    "y_predRFR= ramdomOptimiza.predict(diamantes_testeo)\n",
    "display(y_predRFR.shape,diamantes_testeo.shape)\n",
    "#Lo aplicamos para hacer la predicción\n",
    "\n",
    "compareRFR = pd.DataFrame({\"id\":list(range(0,len(y_predRFR))),'price':y_predRFR})\n",
    "display(compareRFR)"
   ]
  },
  {
   "cell_type": "markdown",
   "metadata": {},
   "source": [
    "Creo un csv para subirlo"
   ]
  },
  {
   "cell_type": "code",
   "execution_count": 176,
   "metadata": {},
   "outputs": [],
   "source": [
    "compareRFR.to_csv('../Output//sample_submissionRandomREgresion.csv',index=False)"
   ]
  },
  {
   "cell_type": "markdown",
   "metadata": {},
   "source": [
    "## Voy a probar el GradientBoostingRegressor"
   ]
  },
  {
   "cell_type": "code",
   "execution_count": 177,
   "metadata": {},
   "outputs": [
    {
     "name": "stdout",
     "output_type": "stream",
     "text": [
      "732.4062763978295\n"
     ]
    }
   ],
   "source": [
    "X_train, X_test, y_train, y_test = train_test_split(diamantes,y_diamantes,test_size=0.2)  \n",
    "gradient = ensemble.GradientBoostingRegressor( n_estimators = 150,max_depth = 6,\n",
    "                                             min_samples_split = 3,learning_rate = 0.1)\n",
    "diamantesGBR = gradient.fit(X_train, y_train)\n",
    "y_predGradienet = gradient.predict(X_test)\n",
    "print(mean_squared_error(y_test, y_predGradienet, squared=False))"
   ]
  },
  {
   "cell_type": "code",
   "execution_count": 178,
   "metadata": {},
   "outputs": [],
   "source": [
    "y_predGBR= diamantesGBR.predict(diamantes_testeo)\n",
    "compareGBR = pd.DataFrame({\"id\":range(len(y_predGBR)),\"price\":y_predGBR})"
   ]
  },
  {
   "cell_type": "code",
   "execution_count": 179,
   "metadata": {},
   "outputs": [],
   "source": [
    "compareGBR.to_csv('../Output//sample_submissionGradientBoostingRegressor.csv',index=False)\n"
   ]
  },
  {
   "cell_type": "markdown",
   "metadata": {},
   "source": [
    "## Practamos con el modelo GradientBoostingRegressor"
   ]
  },
  {
   "cell_type": "code",
   "execution_count": 180,
   "metadata": {},
   "outputs": [
    {
     "name": "stdout",
     "output_type": "stream",
     "text": [
      "779.8120503135682\n"
     ]
    }
   ],
   "source": [
    "X_train, X_test, y_train, y_test = train_test_split(diamantes,y_diamantes,test_size=0.2)  \n",
    "\n",
    "gradient = ensemble.GradientBoostingRegressor( loss= \"huber\",n_estimators = 50,max_depth = 8,\n",
    "                                             min_samples_split = 3,learning_rate = 0.1)\n",
    "diamantesRFR = gradient.fit(X_train, y_train)\n",
    "y_pred = diamantesRFR.predict(X_test)\n",
    "\n",
    "print(mean_squared_error(y_test, y_pred,squared=False))"
   ]
  },
  {
   "cell_type": "code",
   "execution_count": 181,
   "metadata": {},
   "outputs": [
    {
     "name": "stdout",
     "output_type": "stream",
     "text": [
      "Fitting 5 folds for each of 18 candidates, totalling 90 fits\n"
     ]
    },
    {
     "name": "stderr",
     "output_type": "stream",
     "text": [
      "[Parallel(n_jobs=7)]: Using backend LokyBackend with 7 concurrent workers.\n",
      "[Parallel(n_jobs=7)]: Done   4 tasks      | elapsed:   25.8s\n",
      "[Parallel(n_jobs=7)]: Done  11 tasks      | elapsed:   45.9s\n",
      "[Parallel(n_jobs=7)]: Done  18 tasks      | elapsed: 22.0min\n",
      "[Parallel(n_jobs=7)]: Done  27 tasks      | elapsed: 43.8min\n",
      "[Parallel(n_jobs=7)]: Done  36 tasks      | elapsed: 44.7min\n",
      "[Parallel(n_jobs=7)]: Done  47 tasks      | elapsed: 67.5min\n",
      "[Parallel(n_jobs=7)]: Done  58 tasks      | elapsed: 89.9min\n",
      "[Parallel(n_jobs=7)]: Done  71 tasks      | elapsed: 91.1min\n",
      "[Parallel(n_jobs=7)]: Done  87 out of  90 | elapsed: 135.5min remaining:  4.7min\n",
      "[Parallel(n_jobs=7)]: Done  90 out of  90 | elapsed: 148.0min finished\n"
     ]
    },
    {
     "name": "stdout",
     "output_type": "stream",
     "text": [
      "0.9666991709725075\n",
      "Hecho en 9695.137s\n",
      "Mejor  estimator encontado en la busqueda es:\n",
      "GradientBoostingRegressor(alpha=0.9, ccp_alpha=0.0, criterion='friedman_mse',\n",
      "                          init=None, learning_rate=0.05, loss='huber',\n",
      "                          max_depth=8, max_features=None, max_leaf_nodes=None,\n",
      "                          min_impurity_decrease=0.0, min_impurity_split=None,\n",
      "                          min_samples_leaf=1, min_samples_split=3,\n",
      "                          min_weight_fraction_leaf=0.0, n_estimators=2750,\n",
      "                          n_iter_no_change=None, presort='deprecated',\n",
      "                          random_state=3, subsample=1.0, tol=0.0001,\n",
      "                          validation_fraction=0.1, verbose=0, warm_start=False)\n"
     ]
    }
   ],
   "source": [
    "params = { \n",
    "           'learning_rate':[0.15,0.1,0.05], \n",
    "           'n_estimators':[50,2750],                    \n",
    "          \"random_state\": [3,10,100]          \n",
    "         }\n",
    "tuning = GridSearchCV(estimator=gradient,param_grid=params,scoring=\"r2\",verbose = 10, n_jobs=7, cv=5)\n",
    "\n",
    "resultado = optimizar_modelos(tuning,diamantes,y_diamantes)"
   ]
  },
  {
   "cell_type": "code",
   "execution_count": 192,
   "metadata": {},
   "outputs": [
    {
     "name": "stdout",
     "output_type": "stream",
     "text": [
      "689.0889619543268\n"
     ]
    }
   ],
   "source": [
    "X_train, X_test, y_train, y_test = train_test_split(diamantes,y_diamantes,test_size=0.2)\n",
    "GradientOptimizado = ensemble.GradientBoostingRegressor(alpha=0.9, ccp_alpha=0.0, criterion='friedman_mse',\n",
    "                          init=None, learning_rate=0.05, loss='huber',\n",
    "                          max_depth=8, max_features=None, max_leaf_nodes=None,\n",
    "                          min_impurity_decrease=0.0, min_impurity_split=None,\n",
    "                          min_samples_leaf=1, min_samples_split=3,\n",
    "                          min_weight_fraction_leaf=0.0, n_estimators=2750,\n",
    "                          n_iter_no_change=None, presort='deprecated',\n",
    "                          random_state=3, subsample=1.0, tol=0.0001,\n",
    "                          validation_fraction=0.1, verbose=0, warm_start=False)\n",
    "GradientOptimizado = GradientOptimizado.fit(X_train, y_train)\n",
    "y_predGradienetOptimizado = GradientOptimizado.predict(X_test)\n",
    "\n",
    "print(mean_squared_error(y_test, y_predGradienetOptimizado,squared=False))"
   ]
  },
  {
   "cell_type": "code",
   "execution_count": 196,
   "metadata": {},
   "outputs": [],
   "source": [
    "y_predGRedhop = GradientOptimizado.predict(diamantes_testeo)\n",
    "compareGrandEstimacion2 = pd.DataFrame({\"id\":range(len(y_predGRedhop)),\"price\":y_predGRedhop })\n",
    "\n",
    "compareGrandEstimacion2.to_csv('../Output//sample_submissionGradientBoostingRegressorOPt.csv',index=False)"
   ]
  },
  {
   "cell_type": "markdown",
   "metadata": {},
   "source": [
    "## Voy a probar la PLSRegression\n"
   ]
  },
  {
   "cell_type": "code",
   "execution_count": 183,
   "metadata": {},
   "outputs": [
    {
     "ename": "SyntaxError",
     "evalue": "invalid syntax (<ipython-input-183-8c529836aaa8>, line 6)",
     "output_type": "error",
     "traceback": [
      "\u001b[0;36m  File \u001b[0;32m\"<ipython-input-183-8c529836aaa8>\"\u001b[0;36m, line \u001b[0;32m6\u001b[0m\n\u001b[0;31m    m = pls2.fit(X_train, y_train)\u001b[0m\n\u001b[0m    ^\u001b[0m\n\u001b[0;31mSyntaxError\u001b[0m\u001b[0;31m:\u001b[0m invalid syntax\n"
     ]
    }
   ],
   "source": [
    "X_train, X_test, y_train, y_test = train_test_split(diamantes,y_diamantes,test_size=0.2)        \n",
    "\n",
    "from sklearn.cross_decomposition import PLSRegression\n",
    "\n",
    "pls2 = PLSRegression(n_components=100, scale=True, max_iter=500, tol=1e-06, copy=True)\n",
    "m = pls2.fit(X_train, y_train)\n",
    "y_predpls2 = m.predict(X_test)  \n",
    "print(mean_squared_error(y_test, y_predpls2)))\n",
    "#r2_score = 0.8489243795102168                     "
   ]
  },
  {
   "cell_type": "code",
   "execution_count": null,
   "metadata": {},
   "outputs": [],
   "source": [
    "#Probando en colab\n",
    "\n",
    "c =['newton-cg', 'sag', 'saga' , 'lbfgs' ]\n",
    "for e in c:\n",
    "    X_train, X_test, y_train, y_test = train_test_split(diamantes,y_diamantes,test_size=0.2)        \n",
    "    print(\"modelo:  \"  ,e)\n",
    "    model = LogisticRegression(C=10,random_state=12 ,solver=e,n_jobs=6)\n",
    "    m = model.fit(X_train, y_train)\n",
    "    y_pred = m.predict(X_test) \n",
    "    print(\"Terminado el modelo:  \"  ,e)\n",
    "    print(r2_score(y_test, y_pred))    \n",
    "    \n",
    "\"\"\"modelo:   newton-cg\n",
    "Terminado el modelo:   newton-cg\n",
    "0.7331343469414701\n",
    "modelo:   sag\n",
    "Terminado el modelo:   sag\n",
    "0.6993192236265758\n",
    "modelo:   saga\n",
    "Terminado el modelo:   saga\n",
    "0.7049012313114302\n",
    "modelo:   lbfgs\n",
    "Terminado el modelo:   lbfgs\n",
    "0.7451729344305205\n",
    "\"\"\""
   ]
  },
  {
   "cell_type": "markdown",
   "metadata": {},
   "source": [
    "## Entrenando HistGradientBoostingRegressor"
   ]
  },
  {
   "cell_type": "code",
   "execution_count": null,
   "metadata": {},
   "outputs": [],
   "source": [
    "X_train, X_test, y_train, y_test = train_test_split(diamantes,y_diamantes,test_size=0.2)  \n",
    "histaGBR = HistGradientBoostingRegressor(max_iter =100,max_leaf_nodes=50)\n",
    "params = { 'learning_rate':[0.15,0.1,0.05], \n",
    "           'max_bins':[50,230],\n",
    "           'random_state':[50, 100],\n",
    "           'min_samples_leaf': [150, 100]}\n",
    "resultasoHGBR = optimizar_modelos(histaGBR,diamantes,y_diamantes)"
   ]
  },
  {
   "cell_type": "code",
   "execution_count": 184,
   "metadata": {},
   "outputs": [
    {
     "name": "stdout",
     "output_type": "stream",
     "text": [
      "739.7815972002707\n"
     ]
    }
   ],
   "source": [
    "X_train, X_test, y_train, y_test = train_test_split(diamantes,y_diamantes,test_size=0.2)  \n",
    "historiGrand=HistGradientBoostingRegressor(l2_regularization=0.0, learning_rate=0.15,\n",
    "                              loss='least_squares', max_bins=50, max_depth=None,\n",
    "                              max_iter=100, max_leaf_nodes=50,\n",
    "                              min_samples_leaf=50, n_iter_no_change=None,\n",
    "                              random_state=50, scoring='neg_mean_absolute_error', tol=1e-07,\n",
    "                              validation_fraction=0.1, verbose=0,\n",
    "                              warm_start=False)\n",
    "\n",
    "\n",
    "historiGrandEstimacion =  historiGrand.fit(X_train, y_train)\n",
    "y_pred = historiGrandEstimacion.predict(X_test)\n",
    "print(mean_squared_error(y_test, y_pred,squared=False))"
   ]
  },
  {
   "cell_type": "code",
   "execution_count": 185,
   "metadata": {},
   "outputs": [],
   "source": [
    "y_predhGE = historiGrandEstimacion.predict(diamantes_testeo)"
   ]
  },
  {
   "cell_type": "code",
   "execution_count": null,
   "metadata": {},
   "outputs": [],
   "source": [
    "comparehistoriGrandEstimacion2 = pd.DataFrame({\"id\":range(len(y_predhGE)),\"price\":y_predhGE })\n",
    "comparehistoriGrandEstimacion2.shape\n",
    "comparehistoriGrandEstimacion2.to_csv('../Output//sample_submissionHitGradientBoostingRegressor.csv',index=False)"
   ]
  },
  {
   "cell_type": "markdown",
   "metadata": {},
   "source": [
    "## Uso estimadores para intentar optimizar el resultado con StackingRegressor"
   ]
  },
  {
   "cell_type": "code",
   "execution_count": 186,
   "metadata": {},
   "outputs": [],
   "source": [
    "estimators = [\n",
    " ('lr', RidgeCV()),\n",
    " ('svr', LinearSVR(random_state=42)),\n",
    " (\"AdaBoostRegressor\",   AdaBoostRegressor(random_state=0, n_estimators=100)),\n",
    " (\"RANSACR\", RANSACRegressor(random_state=0)),\n",
    " (\"GradientBoostingRegressor\",ensemble.GradientBoostingRegressor( loss= \"huber\",n_estimators = 50,max_depth = 8,\n",
    "                                             min_samples_split = 3,learning_rate = 0.1))\n",
    "]\n",
    "reg = StackingRegressor(\n",
    "     estimators=estimators,\n",
    "     final_estimator=HistGradientBoostingRegressor(l2_regularization=0.0, learning_rate=0.15,\n",
    "                              loss='least_squares', max_bins=50, max_depth=None,\n",
    "                              max_iter=100, max_leaf_nodes=50,\n",
    "                              min_samples_leaf=50, n_iter_no_change=None,\n",
    "                              random_state=50, scoring=None, tol=1e-07,\n",
    "                              validation_fraction=0.1, verbose=0,\n",
    "                              warm_start=False))\n",
    "\n",
    "X_train, X_test, y_train, y_test = train_test_split(diamantes, y_diamantes, random_state=42)\n",
    "modelotop = reg.fit(X_train, y_train)\n"
   ]
  },
  {
   "cell_type": "code",
   "execution_count": 187,
   "metadata": {},
   "outputs": [
    {
     "name": "stdout",
     "output_type": "stream",
     "text": [
      "772.6356577029239\n"
     ]
    }
   ],
   "source": [
    "y_predmodelotop= modelotop.predict(X_test)\n",
    "\n",
    "print(mean_squared_error(y_test, y_predmodelotop, squared=False))\n"
   ]
  },
  {
   "cell_type": "markdown",
   "metadata": {},
   "source": [
    "### Vamos a crear un csv con el\n"
   ]
  },
  {
   "cell_type": "code",
   "execution_count": null,
   "metadata": {},
   "outputs": [],
   "source": [
    "y_predmodelotop2 = modelotop.predict(diamantes_testeo)\n",
    "comparemodelotop = pd.DataFrame(y_predmodelotop2).reset_index()\n",
    "\n",
    "comparemodelotop.to_csv('../Output//sample_submissioncomparemodelotop.csv',index=False,header=[\"id\",\"price\"])"
   ]
  },
  {
   "cell_type": "markdown",
   "metadata": {},
   "source": [
    "## Ahora con estimador de union intentare mejorar el resultado con VotingRegressor "
   ]
  },
  {
   "cell_type": "code",
   "execution_count": 205,
   "metadata": {},
   "outputs": [
    {
     "name": "stdout",
     "output_type": "stream",
     "text": [
      "695.8765610147879\n"
     ]
    }
   ],
   "source": [
    "X_train, X_test, y_train, y_test = train_test_split(diamantes, y_diamantes, random_state=42)\n",
    "from sklearn.ensemble import VotingRegressor\n",
    "historiGrand = HistGradientBoostingRegressor(l2_regularization=0.0, learning_rate=0.17,\n",
    "                              loss='least_squares', max_bins=230,\n",
    "                              max_depth=None, max_iter=150, max_leaf_nodes=50,\n",
    "                              min_samples_leaf=60, n_iter_no_change=None,\n",
    "                              random_state=10, scoring=None, tol=1e-07,\n",
    "                              validation_fraction=0.3, verbose=0,\n",
    "                              warm_start=False)\n",
    "\n",
    "\n",
    "\n",
    "solucion = VotingRegressor([('lr', modelotop), ('rf', historiGrand)])\n",
    "solucionVoting = solucion.fit(X_train, y_train)\n",
    "solucionVoting3 =solucionVoting.predict(X_test)\n",
    "print(mean_squared_error(y_test, solucionVoting3, squared=False))"
   ]
  },
  {
   "cell_type": "code",
   "execution_count": 206,
   "metadata": {},
   "outputs": [
    {
     "data": {
      "text/plain": [
       "(13449,)"
      ]
     },
     "metadata": {},
     "output_type": "display_data"
    },
    {
     "data": {
      "text/plain": [
       "(13449, 9)"
      ]
     },
     "metadata": {},
     "output_type": "display_data"
    }
   ],
   "source": [
    "\n",
    "y_predVRHMTOP= solucionVoting.predict(diamantes_testeo)\n",
    "display(y_predVRHMTOP.shape,diamantes_testeo.shape)\n",
    "\n",
    "compareVotingRegresorhistyModelotop= pd.DataFrame({\"id\":range(len(y_predVRHMTOP)),\"price\":y_predVRHMTOP})\n",
    "compareVotingRegresorhistyModelotop.to_csv('../Output//sample_submissionVotingRegresor(histyModelotop).csv',index=False)\n"
   ]
  },
  {
   "cell_type": "markdown",
   "metadata": {},
   "source": [
    "## Optimizo HistGradientBoostingRegressor"
   ]
  },
  {
   "cell_type": "code",
   "execution_count": null,
   "metadata": {},
   "outputs": [],
   "source": [
    "histaGBR = HistGradientBoostingRegressor(max_iter =100,max_leaf_nodes=50)\n",
    "params = { 'learning_rate':[0.15,0.18,0.17], \n",
    "           'max_bins':[230],\n",
    "           'random_state':[10, 17],\n",
    "           'min_samples_leaf': [60, 59],\n",
    "            \"validation_fraction\":[0.3,0.1,0.2]}\n",
    "\n"
   ]
  },
  {
   "cell_type": "code",
   "execution_count": 198,
   "metadata": {},
   "outputs": [
    {
     "name": "stdout",
     "output_type": "stream",
     "text": [
      "741.8290565907952\n"
     ]
    }
   ],
   "source": [
    "\n",
    "#resultasoHGBR = optimizar_modelos(histaGBR,diamantes,y_diamantes)\n",
    "X_train, X_test, y_train, y_test = train_test_split(diamantes,y_diamantes,test_size=0.2)  \n",
    "historiGrand=HistGradientBoostingRegressor(l2_regularization=0.0, learning_rate=0.15,\n",
    "                              loss='least_squares', max_bins=50, max_depth=None,\n",
    "                              max_iter=100, max_leaf_nodes=50,\n",
    "                              min_samples_leaf=50, n_iter_no_change=None,\n",
    "                              random_state=50, scoring='neg_mean_absolute_error', tol=1e-07,\n",
    "                              validation_fraction=0.1, verbose=0,\n",
    "                              warm_start=False)\n",
    "\n",
    "\n",
    "historiGrandEstimacion =  historiGrand.fit(X_train, y_train)\n",
    "y_predHGE = historiGrandEstimacion.predict(X_test)\n",
    "print(mean_squared_error(y_test, y_predHGE, squared=False))"
   ]
  },
  {
   "cell_type": "code",
   "execution_count": 199,
   "metadata": {},
   "outputs": [],
   "source": [
    "y_predHGEtext = historiGrandEstimacion.predict(diamantes_testeo)\n",
    "compareHistacolab = pd.DataFrame(y_predHGEtext).reset_index()\n",
    "compareHistacolab\n",
    "compareHistacolab.to_csv('../Output//sample_submissionhistoriGrand.csv',index=False,header=[\"id\",\"price\"])"
   ]
  },
  {
   "cell_type": "code",
   "execution_count": 197,
   "metadata": {},
   "outputs": [
    {
     "name": "stdout",
     "output_type": "stream",
     "text": [
      "685.5671706163139\n"
     ]
    }
   ],
   "source": [
    "histaColab = HistGradientBoostingRegressor(l2_regularization=0.0, learning_rate=0.17,\n",
    "                              loss='least_squares', max_bins=230,\n",
    "                              max_depth=None, max_iter=150, max_leaf_nodes=50,\n",
    "                              min_samples_leaf=60, n_iter_no_change=None,\n",
    "                              random_state=10, scoring=None, tol=1e-07,\n",
    "                              validation_fraction=0.3, verbose=0,\n",
    "                              warm_start=False)\n",
    "\n",
    "histaColab =  histaColab.fit(X_train, y_train)\n",
    "y_predHistaColab = histaColab.predict(X_test)\n",
    "print(mean_squared_error(y_test, y_predHistaColab, squared=False))"
   ]
  },
  {
   "cell_type": "code",
   "execution_count": 200,
   "metadata": {},
   "outputs": [
    {
     "data": {
      "text/html": [
       "<div>\n",
       "<style scoped>\n",
       "    .dataframe tbody tr th:only-of-type {\n",
       "        vertical-align: middle;\n",
       "    }\n",
       "\n",
       "    .dataframe tbody tr th {\n",
       "        vertical-align: top;\n",
       "    }\n",
       "\n",
       "    .dataframe thead th {\n",
       "        text-align: right;\n",
       "    }\n",
       "</style>\n",
       "<table border=\"1\" class=\"dataframe\">\n",
       "  <thead>\n",
       "    <tr style=\"text-align: right;\">\n",
       "      <th></th>\n",
       "      <th>index</th>\n",
       "      <th>0</th>\n",
       "    </tr>\n",
       "  </thead>\n",
       "  <tbody>\n",
       "    <tr>\n",
       "      <th>0</th>\n",
       "      <td>0</td>\n",
       "      <td>547.763905</td>\n",
       "    </tr>\n",
       "    <tr>\n",
       "      <th>1</th>\n",
       "      <td>1</td>\n",
       "      <td>919.226594</td>\n",
       "    </tr>\n",
       "    <tr>\n",
       "      <th>2</th>\n",
       "      <td>2</td>\n",
       "      <td>9467.735770</td>\n",
       "    </tr>\n",
       "    <tr>\n",
       "      <th>3</th>\n",
       "      <td>3</td>\n",
       "      <td>578.395708</td>\n",
       "    </tr>\n",
       "    <tr>\n",
       "      <th>4</th>\n",
       "      <td>4</td>\n",
       "      <td>8071.383253</td>\n",
       "    </tr>\n",
       "    <tr>\n",
       "      <th>...</th>\n",
       "      <td>...</td>\n",
       "      <td>...</td>\n",
       "    </tr>\n",
       "    <tr>\n",
       "      <th>13444</th>\n",
       "      <td>13444</td>\n",
       "      <td>4582.253370</td>\n",
       "    </tr>\n",
       "    <tr>\n",
       "      <th>13445</th>\n",
       "      <td>13445</td>\n",
       "      <td>547.005771</td>\n",
       "    </tr>\n",
       "    <tr>\n",
       "      <th>13446</th>\n",
       "      <td>13446</td>\n",
       "      <td>13373.267778</td>\n",
       "    </tr>\n",
       "    <tr>\n",
       "      <th>13447</th>\n",
       "      <td>13447</td>\n",
       "      <td>9035.626552</td>\n",
       "    </tr>\n",
       "    <tr>\n",
       "      <th>13448</th>\n",
       "      <td>13448</td>\n",
       "      <td>718.044791</td>\n",
       "    </tr>\n",
       "  </tbody>\n",
       "</table>\n",
       "<p>13449 rows × 2 columns</p>\n",
       "</div>"
      ],
      "text/plain": [
       "       index             0\n",
       "0          0    547.763905\n",
       "1          1    919.226594\n",
       "2          2   9467.735770\n",
       "3          3    578.395708\n",
       "4          4   8071.383253\n",
       "...      ...           ...\n",
       "13444  13444   4582.253370\n",
       "13445  13445    547.005771\n",
       "13446  13446  13373.267778\n",
       "13447  13447   9035.626552\n",
       "13448  13448    718.044791\n",
       "\n",
       "[13449 rows x 2 columns]"
      ]
     },
     "execution_count": 200,
     "metadata": {},
     "output_type": "execute_result"
    }
   ],
   "source": [
    "y_predHistaColab = histaColab.predict(diamantes_testeo)\n",
    "compareHistacolab = pd.DataFrame(y_predHistaColab).reset_index()\n",
    "compareHistacolab"
   ]
  },
  {
   "cell_type": "code",
   "execution_count": 201,
   "metadata": {},
   "outputs": [],
   "source": [
    "compareHistacolab.to_csv('../Output//sample_submissionHistacolab.csv',index=False,header=[\"id\",\"price\"])"
   ]
  },
  {
   "cell_type": "code",
   "execution_count": null,
   "metadata": {},
   "outputs": [],
   "source": []
  }
 ],
 "metadata": {
  "kernelspec": {
   "display_name": "Python 3",
   "language": "python",
   "name": "python3"
  },
  "language_info": {
   "codemirror_mode": {
    "name": "ipython",
    "version": 3
   },
   "file_extension": ".py",
   "mimetype": "text/x-python",
   "name": "python",
   "nbconvert_exporter": "python",
   "pygments_lexer": "ipython3",
   "version": "3.6.9"
  }
 },
 "nbformat": 4,
 "nbformat_minor": 4
}
