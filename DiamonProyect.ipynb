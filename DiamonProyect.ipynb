{
 "cells": [
  {
   "cell_type": "markdown",
   "metadata": {},
   "source": [
    "# Proyecto Diamantes 💎\n"
   ]
  },
  {
   "cell_type": "markdown",
   "metadata": {},
   "source": [
    "###  Importamos las librerias"
   ]
  },
  {
   "cell_type": "code",
   "execution_count": 1,
   "metadata": {},
   "outputs": [],
   "source": [
    "import pandas as pd\n",
    "import numpy as np\n",
    "import seaborn as sns\n",
    "import matplotlib.pyplot as plt\n",
    "from time import time\n",
    "from src.arreglardatos import *\n",
    "from src.ModelosOptimizaryProbar import *\n",
    "\n",
    "\n",
    "\n",
    "from sklearn import preprocessing\n",
    "from sklearn.pipeline import make_pipeline\n",
    "from sklearn.model_selection import train_test_split\n",
    "from sklearn.linear_model import LogisticRegression\n",
    "from sklearn import ensemble\n",
    "from sklearn.metrics import r2_score\n",
    "from sklearn.ensemble import RandomForestRegressor\n",
    "from sklearn.model_selection import GridSearchCV\n",
    "from sklearn.pipeline import Pipeline\n",
    "from sklearn.experimental import enable_hist_gradient_boosting  \n",
    "from sklearn.ensemble import HistGradientBoostingRegressor\n",
    "from sklearn.linear_model import RidgeCV\n",
    "from sklearn.svm import LinearSVR\n",
    "from sklearn.ensemble import StackingRegressor\n",
    "from sklearn.ensemble import AdaBoostRegressor\n",
    "from sklearn.linear_model import RANSACRegressor\n",
    "\n",
    "\n"
   ]
  },
  {
   "cell_type": "markdown",
   "metadata": {},
   "source": [
    "Damos variables los archivos csv"
   ]
  },
  {
   "cell_type": "code",
   "execution_count": 2,
   "metadata": {},
   "outputs": [],
   "source": [
    "diamantes_test =  pd.read_csv('../Output/diamonds_test.csv')"
   ]
  },
  {
   "cell_type": "code",
   "execution_count": 3,
   "metadata": {},
   "outputs": [],
   "source": [
    "diamantes_train =  pd.read_csv('../Output/diamonds_train.csv')"
   ]
  },
  {
   "cell_type": "code",
   "execution_count": 4,
   "metadata": {},
   "outputs": [],
   "source": [
    "diamantes_sample =  pd.read_csv('../Output/sample_submission.csv')"
   ]
  },
  {
   "cell_type": "code",
   "execution_count": 5,
   "metadata": {},
   "outputs": [
    {
     "data": {
      "text/html": [
       "<div>\n",
       "<style scoped>\n",
       "    .dataframe tbody tr th:only-of-type {\n",
       "        vertical-align: middle;\n",
       "    }\n",
       "\n",
       "    .dataframe tbody tr th {\n",
       "        vertical-align: top;\n",
       "    }\n",
       "\n",
       "    .dataframe thead th {\n",
       "        text-align: right;\n",
       "    }\n",
       "</style>\n",
       "<table border=\"1\" class=\"dataframe\">\n",
       "  <thead>\n",
       "    <tr style=\"text-align: right;\">\n",
       "      <th></th>\n",
       "      <th>Unnamed: 0</th>\n",
       "      <th>price</th>\n",
       "    </tr>\n",
       "  </thead>\n",
       "  <tbody>\n",
       "    <tr>\n",
       "      <th>0</th>\n",
       "      <td>0</td>\n",
       "      <td>16116</td>\n",
       "    </tr>\n",
       "    <tr>\n",
       "      <th>1</th>\n",
       "      <td>1</td>\n",
       "      <td>17682</td>\n",
       "    </tr>\n",
       "    <tr>\n",
       "      <th>2</th>\n",
       "      <td>2</td>\n",
       "      <td>17949</td>\n",
       "    </tr>\n",
       "    <tr>\n",
       "      <th>3</th>\n",
       "      <td>3</td>\n",
       "      <td>8223</td>\n",
       "    </tr>\n",
       "    <tr>\n",
       "      <th>4</th>\n",
       "      <td>4</td>\n",
       "      <td>3680</td>\n",
       "    </tr>\n",
       "  </tbody>\n",
       "</table>\n",
       "</div>"
      ],
      "text/plain": [
       "   Unnamed: 0  price\n",
       "0           0  16116\n",
       "1           1  17682\n",
       "2           2  17949\n",
       "3           3   8223\n",
       "4           4   3680"
      ]
     },
     "metadata": {},
     "output_type": "display_data"
    },
    {
     "data": {
      "text/plain": [
       "(13449, 2)"
      ]
     },
     "metadata": {},
     "output_type": "display_data"
    }
   ],
   "source": [
    "display(diamantes_sample.head(),diamantes_sample.shape)"
   ]
  },
  {
   "cell_type": "code",
   "execution_count": 6,
   "metadata": {},
   "outputs": [
    {
     "data": {
      "text/html": [
       "<div>\n",
       "<style scoped>\n",
       "    .dataframe tbody tr th:only-of-type {\n",
       "        vertical-align: middle;\n",
       "    }\n",
       "\n",
       "    .dataframe tbody tr th {\n",
       "        vertical-align: top;\n",
       "    }\n",
       "\n",
       "    .dataframe thead th {\n",
       "        text-align: right;\n",
       "    }\n",
       "</style>\n",
       "<table border=\"1\" class=\"dataframe\">\n",
       "  <thead>\n",
       "    <tr style=\"text-align: right;\">\n",
       "      <th></th>\n",
       "      <th>Unnamed: 0</th>\n",
       "      <th>carat</th>\n",
       "      <th>cut</th>\n",
       "      <th>color</th>\n",
       "      <th>clarity</th>\n",
       "      <th>depth</th>\n",
       "      <th>table</th>\n",
       "      <th>x</th>\n",
       "      <th>y</th>\n",
       "      <th>z</th>\n",
       "    </tr>\n",
       "  </thead>\n",
       "  <tbody>\n",
       "    <tr>\n",
       "      <th>0</th>\n",
       "      <td>0</td>\n",
       "      <td>0.56</td>\n",
       "      <td>Ideal</td>\n",
       "      <td>G</td>\n",
       "      <td>VS1</td>\n",
       "      <td>60.6</td>\n",
       "      <td>56.0</td>\n",
       "      <td>5.33</td>\n",
       "      <td>5.36</td>\n",
       "      <td>3.24</td>\n",
       "    </tr>\n",
       "    <tr>\n",
       "      <th>1</th>\n",
       "      <td>1</td>\n",
       "      <td>0.32</td>\n",
       "      <td>Premium</td>\n",
       "      <td>H</td>\n",
       "      <td>VS2</td>\n",
       "      <td>61.9</td>\n",
       "      <td>58.0</td>\n",
       "      <td>4.39</td>\n",
       "      <td>4.37</td>\n",
       "      <td>2.71</td>\n",
       "    </tr>\n",
       "    <tr>\n",
       "      <th>2</th>\n",
       "      <td>2</td>\n",
       "      <td>0.71</td>\n",
       "      <td>Good</td>\n",
       "      <td>G</td>\n",
       "      <td>VS2</td>\n",
       "      <td>64.2</td>\n",
       "      <td>58.0</td>\n",
       "      <td>5.59</td>\n",
       "      <td>5.62</td>\n",
       "      <td>3.60</td>\n",
       "    </tr>\n",
       "    <tr>\n",
       "      <th>3</th>\n",
       "      <td>3</td>\n",
       "      <td>1.12</td>\n",
       "      <td>Premium</td>\n",
       "      <td>H</td>\n",
       "      <td>VS1</td>\n",
       "      <td>62.1</td>\n",
       "      <td>58.0</td>\n",
       "      <td>6.64</td>\n",
       "      <td>6.60</td>\n",
       "      <td>4.11</td>\n",
       "    </tr>\n",
       "    <tr>\n",
       "      <th>4</th>\n",
       "      <td>4</td>\n",
       "      <td>1.21</td>\n",
       "      <td>Ideal</td>\n",
       "      <td>G</td>\n",
       "      <td>VS2</td>\n",
       "      <td>61.5</td>\n",
       "      <td>56.0</td>\n",
       "      <td>6.83</td>\n",
       "      <td>6.88</td>\n",
       "      <td>4.22</td>\n",
       "    </tr>\n",
       "  </tbody>\n",
       "</table>\n",
       "</div>"
      ],
      "text/plain": [
       "   Unnamed: 0  carat      cut color clarity  depth  table     x     y     z\n",
       "0           0   0.56    Ideal     G     VS1   60.6   56.0  5.33  5.36  3.24\n",
       "1           1   0.32  Premium     H     VS2   61.9   58.0  4.39  4.37  2.71\n",
       "2           2   0.71     Good     G     VS2   64.2   58.0  5.59  5.62  3.60\n",
       "3           3   1.12  Premium     H     VS1   62.1   58.0  6.64  6.60  4.11\n",
       "4           4   1.21    Ideal     G     VS2   61.5   56.0  6.83  6.88  4.22"
      ]
     },
     "execution_count": 6,
     "metadata": {},
     "output_type": "execute_result"
    }
   ],
   "source": [
    "diamantes_test.head()"
   ]
  },
  {
   "cell_type": "code",
   "execution_count": 7,
   "metadata": {},
   "outputs": [
    {
     "data": {
      "text/html": [
       "<div>\n",
       "<style scoped>\n",
       "    .dataframe tbody tr th:only-of-type {\n",
       "        vertical-align: middle;\n",
       "    }\n",
       "\n",
       "    .dataframe tbody tr th {\n",
       "        vertical-align: top;\n",
       "    }\n",
       "\n",
       "    .dataframe thead th {\n",
       "        text-align: right;\n",
       "    }\n",
       "</style>\n",
       "<table border=\"1\" class=\"dataframe\">\n",
       "  <thead>\n",
       "    <tr style=\"text-align: right;\">\n",
       "      <th></th>\n",
       "      <th>Unnamed: 0</th>\n",
       "      <th>carat</th>\n",
       "      <th>cut</th>\n",
       "      <th>color</th>\n",
       "      <th>clarity</th>\n",
       "      <th>depth</th>\n",
       "      <th>table</th>\n",
       "      <th>x</th>\n",
       "      <th>y</th>\n",
       "      <th>z</th>\n",
       "      <th>price</th>\n",
       "    </tr>\n",
       "  </thead>\n",
       "  <tbody>\n",
       "    <tr>\n",
       "      <th>0</th>\n",
       "      <td>0</td>\n",
       "      <td>0.32</td>\n",
       "      <td>Ideal</td>\n",
       "      <td>D</td>\n",
       "      <td>VS2</td>\n",
       "      <td>61.9</td>\n",
       "      <td>55.0</td>\n",
       "      <td>4.43</td>\n",
       "      <td>4.39</td>\n",
       "      <td>2.73</td>\n",
       "      <td>972</td>\n",
       "    </tr>\n",
       "    <tr>\n",
       "      <th>1</th>\n",
       "      <td>1</td>\n",
       "      <td>0.40</td>\n",
       "      <td>Premium</td>\n",
       "      <td>F</td>\n",
       "      <td>VS2</td>\n",
       "      <td>59.7</td>\n",
       "      <td>58.0</td>\n",
       "      <td>4.79</td>\n",
       "      <td>4.83</td>\n",
       "      <td>2.87</td>\n",
       "      <td>842</td>\n",
       "    </tr>\n",
       "    <tr>\n",
       "      <th>2</th>\n",
       "      <td>2</td>\n",
       "      <td>0.54</td>\n",
       "      <td>Very Good</td>\n",
       "      <td>D</td>\n",
       "      <td>VS2</td>\n",
       "      <td>61.1</td>\n",
       "      <td>59.0</td>\n",
       "      <td>5.25</td>\n",
       "      <td>5.29</td>\n",
       "      <td>3.22</td>\n",
       "      <td>1583</td>\n",
       "    </tr>\n",
       "    <tr>\n",
       "      <th>3</th>\n",
       "      <td>3</td>\n",
       "      <td>0.51</td>\n",
       "      <td>Ideal</td>\n",
       "      <td>G</td>\n",
       "      <td>VS1</td>\n",
       "      <td>61.7</td>\n",
       "      <td>55.0</td>\n",
       "      <td>5.17</td>\n",
       "      <td>5.14</td>\n",
       "      <td>3.18</td>\n",
       "      <td>1781</td>\n",
       "    </tr>\n",
       "    <tr>\n",
       "      <th>4</th>\n",
       "      <td>4</td>\n",
       "      <td>1.01</td>\n",
       "      <td>Very Good</td>\n",
       "      <td>F</td>\n",
       "      <td>SI2</td>\n",
       "      <td>62.8</td>\n",
       "      <td>60.0</td>\n",
       "      <td>6.33</td>\n",
       "      <td>6.40</td>\n",
       "      <td>4.00</td>\n",
       "      <td>4416</td>\n",
       "    </tr>\n",
       "  </tbody>\n",
       "</table>\n",
       "</div>"
      ],
      "text/plain": [
       "   Unnamed: 0  carat        cut color clarity  depth  table     x     y     z  \\\n",
       "0           0   0.32      Ideal     D     VS2   61.9   55.0  4.43  4.39  2.73   \n",
       "1           1   0.40    Premium     F     VS2   59.7   58.0  4.79  4.83  2.87   \n",
       "2           2   0.54  Very Good     D     VS2   61.1   59.0  5.25  5.29  3.22   \n",
       "3           3   0.51      Ideal     G     VS1   61.7   55.0  5.17  5.14  3.18   \n",
       "4           4   1.01  Very Good     F     SI2   62.8   60.0  6.33  6.40  4.00   \n",
       "\n",
       "   price  \n",
       "0    972  \n",
       "1    842  \n",
       "2   1583  \n",
       "3   1781  \n",
       "4   4416  "
      ]
     },
     "execution_count": 7,
     "metadata": {},
     "output_type": "execute_result"
    }
   ],
   "source": [
    "diamantes_train.head()"
   ]
  },
  {
   "cell_type": "markdown",
   "metadata": {},
   "source": [
    "Miramos el nombre de las columnas"
   ]
  },
  {
   "cell_type": "code",
   "execution_count": 8,
   "metadata": {},
   "outputs": [
    {
     "data": {
      "text/plain": [
       "Index(['Unnamed: 0', 'carat', 'cut', 'color', 'clarity', 'depth', 'table', 'x',\n",
       "       'y', 'z', 'price'],\n",
       "      dtype='object')"
      ]
     },
     "execution_count": 8,
     "metadata": {},
     "output_type": "execute_result"
    }
   ],
   "source": [
    "diamantes_train.columns"
   ]
  },
  {
   "cell_type": "markdown",
   "metadata": {},
   "source": [
    "## Empezamos con la limpieza del dataset"
   ]
  },
  {
   "cell_type": "code",
   "execution_count": 9,
   "metadata": {},
   "outputs": [
    {
     "data": {
      "text/plain": [
       "array([    0,     1,     2, ..., 40342, 40343, 40344])"
      ]
     },
     "execution_count": 9,
     "metadata": {},
     "output_type": "execute_result"
    }
   ],
   "source": [
    "diamantes_train['Unnamed: 0'].unique()"
   ]
  },
  {
   "cell_type": "markdown",
   "metadata": {},
   "source": [
    "Vemos que tenemos un doble index asi que\n",
    "eliminamos el doble indice que tiene la colmna"
   ]
  },
  {
   "cell_type": "code",
   "execution_count": 10,
   "metadata": {},
   "outputs": [],
   "source": [
    "diamantes_train = diamantes_train.drop(['Unnamed: 0'],axis =1)"
   ]
  },
  {
   "cell_type": "code",
   "execution_count": 11,
   "metadata": {},
   "outputs": [
    {
     "data": {
      "text/html": [
       "<div>\n",
       "<style scoped>\n",
       "    .dataframe tbody tr th:only-of-type {\n",
       "        vertical-align: middle;\n",
       "    }\n",
       "\n",
       "    .dataframe tbody tr th {\n",
       "        vertical-align: top;\n",
       "    }\n",
       "\n",
       "    .dataframe thead th {\n",
       "        text-align: right;\n",
       "    }\n",
       "</style>\n",
       "<table border=\"1\" class=\"dataframe\">\n",
       "  <thead>\n",
       "    <tr style=\"text-align: right;\">\n",
       "      <th></th>\n",
       "      <th>carat</th>\n",
       "      <th>cut</th>\n",
       "      <th>color</th>\n",
       "      <th>clarity</th>\n",
       "      <th>depth</th>\n",
       "      <th>table</th>\n",
       "      <th>x</th>\n",
       "      <th>y</th>\n",
       "      <th>z</th>\n",
       "      <th>price</th>\n",
       "    </tr>\n",
       "  </thead>\n",
       "  <tbody>\n",
       "    <tr>\n",
       "      <th>0</th>\n",
       "      <td>0.32</td>\n",
       "      <td>Ideal</td>\n",
       "      <td>D</td>\n",
       "      <td>VS2</td>\n",
       "      <td>61.9</td>\n",
       "      <td>55.0</td>\n",
       "      <td>4.43</td>\n",
       "      <td>4.39</td>\n",
       "      <td>2.73</td>\n",
       "      <td>972</td>\n",
       "    </tr>\n",
       "    <tr>\n",
       "      <th>1</th>\n",
       "      <td>0.40</td>\n",
       "      <td>Premium</td>\n",
       "      <td>F</td>\n",
       "      <td>VS2</td>\n",
       "      <td>59.7</td>\n",
       "      <td>58.0</td>\n",
       "      <td>4.79</td>\n",
       "      <td>4.83</td>\n",
       "      <td>2.87</td>\n",
       "      <td>842</td>\n",
       "    </tr>\n",
       "    <tr>\n",
       "      <th>2</th>\n",
       "      <td>0.54</td>\n",
       "      <td>Very Good</td>\n",
       "      <td>D</td>\n",
       "      <td>VS2</td>\n",
       "      <td>61.1</td>\n",
       "      <td>59.0</td>\n",
       "      <td>5.25</td>\n",
       "      <td>5.29</td>\n",
       "      <td>3.22</td>\n",
       "      <td>1583</td>\n",
       "    </tr>\n",
       "    <tr>\n",
       "      <th>3</th>\n",
       "      <td>0.51</td>\n",
       "      <td>Ideal</td>\n",
       "      <td>G</td>\n",
       "      <td>VS1</td>\n",
       "      <td>61.7</td>\n",
       "      <td>55.0</td>\n",
       "      <td>5.17</td>\n",
       "      <td>5.14</td>\n",
       "      <td>3.18</td>\n",
       "      <td>1781</td>\n",
       "    </tr>\n",
       "    <tr>\n",
       "      <th>4</th>\n",
       "      <td>1.01</td>\n",
       "      <td>Very Good</td>\n",
       "      <td>F</td>\n",
       "      <td>SI2</td>\n",
       "      <td>62.8</td>\n",
       "      <td>60.0</td>\n",
       "      <td>6.33</td>\n",
       "      <td>6.40</td>\n",
       "      <td>4.00</td>\n",
       "      <td>4416</td>\n",
       "    </tr>\n",
       "  </tbody>\n",
       "</table>\n",
       "</div>"
      ],
      "text/plain": [
       "   carat        cut color clarity  depth  table     x     y     z  price\n",
       "0   0.32      Ideal     D     VS2   61.9   55.0  4.43  4.39  2.73    972\n",
       "1   0.40    Premium     F     VS2   59.7   58.0  4.79  4.83  2.87    842\n",
       "2   0.54  Very Good     D     VS2   61.1   59.0  5.25  5.29  3.22   1583\n",
       "3   0.51      Ideal     G     VS1   61.7   55.0  5.17  5.14  3.18   1781\n",
       "4   1.01  Very Good     F     SI2   62.8   60.0  6.33  6.40  4.00   4416"
      ]
     },
     "metadata": {},
     "output_type": "display_data"
    },
    {
     "data": {
      "text/plain": [
       "(40345, 10)"
      ]
     },
     "metadata": {},
     "output_type": "display_data"
    }
   ],
   "source": [
    "display(diamantes_train.head(),diamantes_train.shape)"
   ]
  },
  {
   "cell_type": "markdown",
   "metadata": {},
   "source": [
    "Vemos los elementos de  las columnas \"cut\",\"clarity\" y \"color\""
   ]
  },
  {
   "cell_type": "code",
   "execution_count": 12,
   "metadata": {},
   "outputs": [
    {
     "name": "stdout",
     "output_type": "stream",
     "text": [
      "Columna cut: ['Ideal' 'Premium' 'Very Good' 'Fair' 'Good']\n",
      "Columna clarity: ['VS2' 'VS1' 'SI2' 'SI1' 'VVS2' 'VVS1' 'IF' 'I1']\n",
      "Columna color: ['D' 'F' 'G' 'E' 'I' 'H' 'J']\n"
     ]
    }
   ],
   "source": [
    "print(f\"Columna cut: {diamantes_train['cut'].unique()}\\nColumna clarity: {diamantes_train['clarity'].unique()}\\nColumna color: {diamantes_train['color'].unique()}\") \n"
   ]
  },
  {
   "cell_type": "markdown",
   "metadata": {},
   "source": [
    "Vamos a ver si hay alguna columna con valores nulos\n"
   ]
  },
  {
   "cell_type": "code",
   "execution_count": 13,
   "metadata": {},
   "outputs": [
    {
     "name": "stdout",
     "output_type": "stream",
     "text": [
      "<class 'pandas.core.frame.DataFrame'>\n",
      "RangeIndex: 40345 entries, 0 to 40344\n",
      "Data columns (total 10 columns):\n",
      " #   Column   Non-Null Count  Dtype  \n",
      "---  ------   --------------  -----  \n",
      " 0   carat    40345 non-null  float64\n",
      " 1   cut      40345 non-null  object \n",
      " 2   color    40345 non-null  object \n",
      " 3   clarity  40345 non-null  object \n",
      " 4   depth    40345 non-null  float64\n",
      " 5   table    40345 non-null  float64\n",
      " 6   x        40345 non-null  float64\n",
      " 7   y        40345 non-null  float64\n",
      " 8   z        40345 non-null  float64\n",
      " 9   price    40345 non-null  int64  \n",
      "dtypes: float64(6), int64(1), object(3)\n",
      "memory usage: 3.1+ MB\n"
     ]
    }
   ],
   "source": [
    "diamantes_train.info()"
   ]
  },
  {
   "cell_type": "markdown",
   "metadata": {},
   "source": [
    "Hago categoricas las columnas que tienen tipo object.Y los pasamos a valores numéricos"
   ]
  },
  {
   "cell_type": "code",
   "execution_count": 14,
   "metadata": {},
   "outputs": [
    {
     "data": {
      "text/html": [
       "<div>\n",
       "<style scoped>\n",
       "    .dataframe tbody tr th:only-of-type {\n",
       "        vertical-align: middle;\n",
       "    }\n",
       "\n",
       "    .dataframe tbody tr th {\n",
       "        vertical-align: top;\n",
       "    }\n",
       "\n",
       "    .dataframe thead th {\n",
       "        text-align: right;\n",
       "    }\n",
       "</style>\n",
       "<table border=\"1\" class=\"dataframe\">\n",
       "  <thead>\n",
       "    <tr style=\"text-align: right;\">\n",
       "      <th></th>\n",
       "      <th>carat</th>\n",
       "      <th>cut</th>\n",
       "      <th>color</th>\n",
       "      <th>clarity</th>\n",
       "      <th>depth</th>\n",
       "      <th>table</th>\n",
       "      <th>x</th>\n",
       "      <th>y</th>\n",
       "      <th>z</th>\n",
       "      <th>price</th>\n",
       "    </tr>\n",
       "  </thead>\n",
       "  <tbody>\n",
       "    <tr>\n",
       "      <th>0</th>\n",
       "      <td>0.32</td>\n",
       "      <td>2</td>\n",
       "      <td>0</td>\n",
       "      <td>5</td>\n",
       "      <td>61.9</td>\n",
       "      <td>55.0</td>\n",
       "      <td>4.43</td>\n",
       "      <td>4.39</td>\n",
       "      <td>2.73</td>\n",
       "      <td>972</td>\n",
       "    </tr>\n",
       "    <tr>\n",
       "      <th>1</th>\n",
       "      <td>0.40</td>\n",
       "      <td>3</td>\n",
       "      <td>2</td>\n",
       "      <td>5</td>\n",
       "      <td>59.7</td>\n",
       "      <td>58.0</td>\n",
       "      <td>4.79</td>\n",
       "      <td>4.83</td>\n",
       "      <td>2.87</td>\n",
       "      <td>842</td>\n",
       "    </tr>\n",
       "    <tr>\n",
       "      <th>2</th>\n",
       "      <td>0.54</td>\n",
       "      <td>4</td>\n",
       "      <td>0</td>\n",
       "      <td>5</td>\n",
       "      <td>61.1</td>\n",
       "      <td>59.0</td>\n",
       "      <td>5.25</td>\n",
       "      <td>5.29</td>\n",
       "      <td>3.22</td>\n",
       "      <td>1583</td>\n",
       "    </tr>\n",
       "    <tr>\n",
       "      <th>3</th>\n",
       "      <td>0.51</td>\n",
       "      <td>2</td>\n",
       "      <td>3</td>\n",
       "      <td>4</td>\n",
       "      <td>61.7</td>\n",
       "      <td>55.0</td>\n",
       "      <td>5.17</td>\n",
       "      <td>5.14</td>\n",
       "      <td>3.18</td>\n",
       "      <td>1781</td>\n",
       "    </tr>\n",
       "    <tr>\n",
       "      <th>4</th>\n",
       "      <td>1.01</td>\n",
       "      <td>4</td>\n",
       "      <td>2</td>\n",
       "      <td>3</td>\n",
       "      <td>62.8</td>\n",
       "      <td>60.0</td>\n",
       "      <td>6.33</td>\n",
       "      <td>6.40</td>\n",
       "      <td>4.00</td>\n",
       "      <td>4416</td>\n",
       "    </tr>\n",
       "  </tbody>\n",
       "</table>\n",
       "</div>"
      ],
      "text/plain": [
       "   carat  cut  color  clarity  depth  table     x     y     z  price\n",
       "0   0.32    2      0        5   61.9   55.0  4.43  4.39  2.73    972\n",
       "1   0.40    3      2        5   59.7   58.0  4.79  4.83  2.87    842\n",
       "2   0.54    4      0        5   61.1   59.0  5.25  5.29  3.22   1583\n",
       "3   0.51    2      3        4   61.7   55.0  5.17  5.14  3.18   1781\n",
       "4   1.01    4      2        3   62.8   60.0  6.33  6.40  4.00   4416"
      ]
     },
     "metadata": {},
     "output_type": "display_data"
    }
   ],
   "source": [
    "diamantes_train = category(diamantes_train)\n",
    "display(diamantes_train.head())"
   ]
  },
  {
   "cell_type": "markdown",
   "metadata": {},
   "source": [
    "Divido Diamantes en la X y la y para la prueba"
   ]
  },
  {
   "cell_type": "code",
   "execution_count": 15,
   "metadata": {},
   "outputs": [
    {
     "data": {
      "text/html": [
       "<div>\n",
       "<style scoped>\n",
       "    .dataframe tbody tr th:only-of-type {\n",
       "        vertical-align: middle;\n",
       "    }\n",
       "\n",
       "    .dataframe tbody tr th {\n",
       "        vertical-align: top;\n",
       "    }\n",
       "\n",
       "    .dataframe thead th {\n",
       "        text-align: right;\n",
       "    }\n",
       "</style>\n",
       "<table border=\"1\" class=\"dataframe\">\n",
       "  <thead>\n",
       "    <tr style=\"text-align: right;\">\n",
       "      <th></th>\n",
       "      <th>carat</th>\n",
       "      <th>clarity</th>\n",
       "      <th>color</th>\n",
       "      <th>cut</th>\n",
       "      <th>depth</th>\n",
       "      <th>table</th>\n",
       "      <th>x</th>\n",
       "      <th>y</th>\n",
       "      <th>z</th>\n",
       "    </tr>\n",
       "  </thead>\n",
       "  <tbody>\n",
       "    <tr>\n",
       "      <th>0</th>\n",
       "      <td>0.32</td>\n",
       "      <td>5</td>\n",
       "      <td>0</td>\n",
       "      <td>2</td>\n",
       "      <td>61.9</td>\n",
       "      <td>55.0</td>\n",
       "      <td>4.43</td>\n",
       "      <td>4.39</td>\n",
       "      <td>2.73</td>\n",
       "    </tr>\n",
       "    <tr>\n",
       "      <th>1</th>\n",
       "      <td>0.40</td>\n",
       "      <td>5</td>\n",
       "      <td>2</td>\n",
       "      <td>3</td>\n",
       "      <td>59.7</td>\n",
       "      <td>58.0</td>\n",
       "      <td>4.79</td>\n",
       "      <td>4.83</td>\n",
       "      <td>2.87</td>\n",
       "    </tr>\n",
       "    <tr>\n",
       "      <th>2</th>\n",
       "      <td>0.54</td>\n",
       "      <td>5</td>\n",
       "      <td>0</td>\n",
       "      <td>4</td>\n",
       "      <td>61.1</td>\n",
       "      <td>59.0</td>\n",
       "      <td>5.25</td>\n",
       "      <td>5.29</td>\n",
       "      <td>3.22</td>\n",
       "    </tr>\n",
       "    <tr>\n",
       "      <th>3</th>\n",
       "      <td>0.51</td>\n",
       "      <td>4</td>\n",
       "      <td>3</td>\n",
       "      <td>2</td>\n",
       "      <td>61.7</td>\n",
       "      <td>55.0</td>\n",
       "      <td>5.17</td>\n",
       "      <td>5.14</td>\n",
       "      <td>3.18</td>\n",
       "    </tr>\n",
       "    <tr>\n",
       "      <th>4</th>\n",
       "      <td>1.01</td>\n",
       "      <td>3</td>\n",
       "      <td>2</td>\n",
       "      <td>4</td>\n",
       "      <td>62.8</td>\n",
       "      <td>60.0</td>\n",
       "      <td>6.33</td>\n",
       "      <td>6.40</td>\n",
       "      <td>4.00</td>\n",
       "    </tr>\n",
       "  </tbody>\n",
       "</table>\n",
       "</div>"
      ],
      "text/plain": [
       "   carat  clarity  color  cut  depth  table     x     y     z\n",
       "0   0.32        5      0    2   61.9   55.0  4.43  4.39  2.73\n",
       "1   0.40        5      2    3   59.7   58.0  4.79  4.83  2.87\n",
       "2   0.54        5      0    4   61.1   59.0  5.25  5.29  3.22\n",
       "3   0.51        4      3    2   61.7   55.0  5.17  5.14  3.18\n",
       "4   1.01        3      2    4   62.8   60.0  6.33  6.40  4.00"
      ]
     },
     "metadata": {},
     "output_type": "display_data"
    },
    {
     "data": {
      "text/plain": [
       "0     972\n",
       "1     842\n",
       "2    1583\n",
       "3    1781\n",
       "4    4416\n",
       "Name: price, dtype: int64"
      ]
     },
     "metadata": {},
     "output_type": "display_data"
    },
    {
     "data": {
      "text/plain": [
       "(40345, 9)"
      ]
     },
     "metadata": {},
     "output_type": "display_data"
    }
   ],
   "source": [
    "X_diamantes = diamantes_train[diamantes_train.columns.difference([\"price\"])]\n",
    "y_diamantes = diamantes_train[\"price\"]\n",
    "display(X_diamantes.head(),y_diamantes.head(),X_diamantes.shape)"
   ]
  },
  {
   "cell_type": "markdown",
   "metadata": {},
   "source": [
    "Vamos a estandarizar y normalizar los valores"
   ]
  },
  {
   "cell_type": "code",
   "execution_count": 17,
   "metadata": {},
   "outputs": [
    {
     "data": {
      "text/plain": [
       "(40345, 9)"
      ]
     },
     "metadata": {},
     "output_type": "display_data"
    }
   ],
   "source": [
    "\n",
    "diamantes = stand_Normalize(X_diamantes)\n",
    "display(diamantes.shape)"
   ]
  },
  {
   "cell_type": "markdown",
   "metadata": {},
   "source": [
    "Ahora voy a pasar el mismo filtro el dataset de test\n"
   ]
  },
  {
   "cell_type": "code",
   "execution_count": 18,
   "metadata": {},
   "outputs": [
    {
     "data": {
      "text/html": [
       "<div>\n",
       "<style scoped>\n",
       "    .dataframe tbody tr th:only-of-type {\n",
       "        vertical-align: middle;\n",
       "    }\n",
       "\n",
       "    .dataframe tbody tr th {\n",
       "        vertical-align: top;\n",
       "    }\n",
       "\n",
       "    .dataframe thead th {\n",
       "        text-align: right;\n",
       "    }\n",
       "</style>\n",
       "<table border=\"1\" class=\"dataframe\">\n",
       "  <thead>\n",
       "    <tr style=\"text-align: right;\">\n",
       "      <th></th>\n",
       "      <th>carat</th>\n",
       "      <th>cut</th>\n",
       "      <th>color</th>\n",
       "      <th>clarity</th>\n",
       "      <th>depth</th>\n",
       "      <th>table</th>\n",
       "      <th>x</th>\n",
       "      <th>y</th>\n",
       "      <th>z</th>\n",
       "    </tr>\n",
       "  </thead>\n",
       "  <tbody>\n",
       "    <tr>\n",
       "      <th>0</th>\n",
       "      <td>-0.223101</td>\n",
       "      <td>-0.240616</td>\n",
       "      <td>0.101406</td>\n",
       "      <td>0.039031</td>\n",
       "      <td>-0.356832</td>\n",
       "      <td>-0.290229</td>\n",
       "      <td>-0.159544</td>\n",
       "      <td>-0.149801</td>\n",
       "      <td>-0.190272</td>\n",
       "    </tr>\n",
       "    <tr>\n",
       "      <th>1</th>\n",
       "      <td>-0.323918</td>\n",
       "      <td>0.137646</td>\n",
       "      <td>0.260412</td>\n",
       "      <td>0.213145</td>\n",
       "      <td>0.036586</td>\n",
       "      <td>0.078964</td>\n",
       "      <td>-0.383676</td>\n",
       "      <td>-0.393043</td>\n",
       "      <td>-0.382102</td>\n",
       "    </tr>\n",
       "    <tr>\n",
       "      <th>2</th>\n",
       "      <td>-0.063040</td>\n",
       "      <td>-0.506997</td>\n",
       "      <td>0.076621</td>\n",
       "      <td>0.222032</td>\n",
       "      <td>0.582554</td>\n",
       "      <td>0.082256</td>\n",
       "      <td>-0.043345</td>\n",
       "      <td>-0.035386</td>\n",
       "      <td>0.028943</td>\n",
       "    </tr>\n",
       "    <tr>\n",
       "      <th>3</th>\n",
       "      <td>0.268098</td>\n",
       "      <td>0.170536</td>\n",
       "      <td>0.322638</td>\n",
       "      <td>0.035076</td>\n",
       "      <td>0.101636</td>\n",
       "      <td>0.097832</td>\n",
       "      <td>0.319275</td>\n",
       "      <td>0.306695</td>\n",
       "      <td>0.325426</td>\n",
       "    </tr>\n",
       "    <tr>\n",
       "      <th>4</th>\n",
       "      <td>0.306889</td>\n",
       "      <td>-0.193238</td>\n",
       "      <td>0.081439</td>\n",
       "      <td>0.235994</td>\n",
       "      <td>-0.060132</td>\n",
       "      <td>-0.233083</td>\n",
       "      <td>0.345290</td>\n",
       "      <td>0.363135</td>\n",
       "      <td>0.346911</td>\n",
       "    </tr>\n",
       "    <tr>\n",
       "      <th>...</th>\n",
       "      <td>...</td>\n",
       "      <td>...</td>\n",
       "      <td>...</td>\n",
       "      <td>...</td>\n",
       "      <td>...</td>\n",
       "      <td>...</td>\n",
       "      <td>...</td>\n",
       "      <td>...</td>\n",
       "      <td>...</td>\n",
       "    </tr>\n",
       "    <tr>\n",
       "      <th>13444</th>\n",
       "      <td>-0.307239</td>\n",
       "      <td>-0.209152</td>\n",
       "      <td>0.312072</td>\n",
       "      <td>0.033927</td>\n",
       "      <td>-0.146779</td>\n",
       "      <td>-0.078824</td>\n",
       "      <td>-0.295819</td>\n",
       "      <td>-0.322989</td>\n",
       "      <td>-0.319925</td>\n",
       "    </tr>\n",
       "    <tr>\n",
       "      <th>13445</th>\n",
       "      <td>-0.037648</td>\n",
       "      <td>-0.496986</td>\n",
       "      <td>0.162003</td>\n",
       "      <td>0.017613</td>\n",
       "      <td>0.658910</td>\n",
       "      <td>0.409296</td>\n",
       "      <td>-0.034752</td>\n",
       "      <td>-0.044364</td>\n",
       "      <td>0.034475</td>\n",
       "    </tr>\n",
       "    <tr>\n",
       "      <th>13446</th>\n",
       "      <td>-0.209642</td>\n",
       "      <td>-0.271409</td>\n",
       "      <td>0.114383</td>\n",
       "      <td>0.044027</td>\n",
       "      <td>-0.225809</td>\n",
       "      <td>-0.102288</td>\n",
       "      <td>-0.144499</td>\n",
       "      <td>-0.128768</td>\n",
       "      <td>-0.157327</td>\n",
       "    </tr>\n",
       "    <tr>\n",
       "      <th>13447</th>\n",
       "      <td>-0.070208</td>\n",
       "      <td>0.143656</td>\n",
       "      <td>-0.508285</td>\n",
       "      <td>-0.163357</td>\n",
       "      <td>0.251628</td>\n",
       "      <td>0.535590</td>\n",
       "      <td>-0.037476</td>\n",
       "      <td>-0.050443</td>\n",
       "      <td>-0.014262</td>\n",
       "    </tr>\n",
       "    <tr>\n",
       "      <th>13448</th>\n",
       "      <td>0.302981</td>\n",
       "      <td>-0.504480</td>\n",
       "      <td>-0.307546</td>\n",
       "      <td>-0.215561</td>\n",
       "      <td>0.338800</td>\n",
       "      <td>0.232666</td>\n",
       "      <td>0.259937</td>\n",
       "      <td>0.248834</td>\n",
       "      <td>0.302557</td>\n",
       "    </tr>\n",
       "  </tbody>\n",
       "</table>\n",
       "<p>13449 rows × 9 columns</p>\n",
       "</div>"
      ],
      "text/plain": [
       "          carat       cut     color   clarity     depth     table         x  \\\n",
       "0     -0.223101 -0.240616  0.101406  0.039031 -0.356832 -0.290229 -0.159544   \n",
       "1     -0.323918  0.137646  0.260412  0.213145  0.036586  0.078964 -0.383676   \n",
       "2     -0.063040 -0.506997  0.076621  0.222032  0.582554  0.082256 -0.043345   \n",
       "3      0.268098  0.170536  0.322638  0.035076  0.101636  0.097832  0.319275   \n",
       "4      0.306889 -0.193238  0.081439  0.235994 -0.060132 -0.233083  0.345290   \n",
       "...         ...       ...       ...       ...       ...       ...       ...   \n",
       "13444 -0.307239 -0.209152  0.312072  0.033927 -0.146779 -0.078824 -0.295819   \n",
       "13445 -0.037648 -0.496986  0.162003  0.017613  0.658910  0.409296 -0.034752   \n",
       "13446 -0.209642 -0.271409  0.114383  0.044027 -0.225809 -0.102288 -0.144499   \n",
       "13447 -0.070208  0.143656 -0.508285 -0.163357  0.251628  0.535590 -0.037476   \n",
       "13448  0.302981 -0.504480 -0.307546 -0.215561  0.338800  0.232666  0.259937   \n",
       "\n",
       "              y         z  \n",
       "0     -0.149801 -0.190272  \n",
       "1     -0.393043 -0.382102  \n",
       "2     -0.035386  0.028943  \n",
       "3      0.306695  0.325426  \n",
       "4      0.363135  0.346911  \n",
       "...         ...       ...  \n",
       "13444 -0.322989 -0.319925  \n",
       "13445 -0.044364  0.034475  \n",
       "13446 -0.128768 -0.157327  \n",
       "13447 -0.050443 -0.014262  \n",
       "13448  0.248834  0.302557  \n",
       "\n",
       "[13449 rows x 9 columns]"
      ]
     },
     "metadata": {},
     "output_type": "display_data"
    }
   ],
   "source": [
    "diamantes_testeo = category(diamantes_test)\n",
    "diamantes_testeo = stand_Normalize(diamantes_testeo)\n",
    "diamantes_testeo = diamantes_testeo.drop(['Unnamed: 0'],axis =1)\n",
    "display(diamantes_testeo)"
   ]
  },
  {
   "cell_type": "markdown",
   "metadata": {},
   "source": [
    "Miramos si estan relacionados por lo que se ve no lo estas"
   ]
  },
  {
   "cell_type": "code",
   "execution_count": 19,
   "metadata": {},
   "outputs": [
    {
     "data": {
      "text/html": [
       "<div>\n",
       "<style scoped>\n",
       "    .dataframe tbody tr th:only-of-type {\n",
       "        vertical-align: middle;\n",
       "    }\n",
       "\n",
       "    .dataframe tbody tr th {\n",
       "        vertical-align: top;\n",
       "    }\n",
       "\n",
       "    .dataframe thead th {\n",
       "        text-align: right;\n",
       "    }\n",
       "</style>\n",
       "<table border=\"1\" class=\"dataframe\">\n",
       "  <thead>\n",
       "    <tr style=\"text-align: right;\">\n",
       "      <th></th>\n",
       "      <th>carat</th>\n",
       "      <th>clarity</th>\n",
       "      <th>color</th>\n",
       "      <th>cut</th>\n",
       "      <th>depth</th>\n",
       "      <th>table</th>\n",
       "      <th>x</th>\n",
       "      <th>y</th>\n",
       "      <th>z</th>\n",
       "    </tr>\n",
       "  </thead>\n",
       "  <tbody>\n",
       "    <tr>\n",
       "      <th>carat</th>\n",
       "      <td>1.000000</td>\n",
       "      <td>NaN</td>\n",
       "      <td>NaN</td>\n",
       "      <td>NaN</td>\n",
       "      <td>NaN</td>\n",
       "      <td>NaN</td>\n",
       "      <td>0.975955</td>\n",
       "      <td>0.974691</td>\n",
       "      <td>0.973687</td>\n",
       "    </tr>\n",
       "    <tr>\n",
       "      <th>clarity</th>\n",
       "      <td>NaN</td>\n",
       "      <td>1.0</td>\n",
       "      <td>NaN</td>\n",
       "      <td>NaN</td>\n",
       "      <td>NaN</td>\n",
       "      <td>NaN</td>\n",
       "      <td>NaN</td>\n",
       "      <td>NaN</td>\n",
       "      <td>NaN</td>\n",
       "    </tr>\n",
       "    <tr>\n",
       "      <th>color</th>\n",
       "      <td>NaN</td>\n",
       "      <td>NaN</td>\n",
       "      <td>1.0</td>\n",
       "      <td>NaN</td>\n",
       "      <td>NaN</td>\n",
       "      <td>NaN</td>\n",
       "      <td>NaN</td>\n",
       "      <td>NaN</td>\n",
       "      <td>NaN</td>\n",
       "    </tr>\n",
       "    <tr>\n",
       "      <th>cut</th>\n",
       "      <td>NaN</td>\n",
       "      <td>NaN</td>\n",
       "      <td>NaN</td>\n",
       "      <td>1.0</td>\n",
       "      <td>NaN</td>\n",
       "      <td>NaN</td>\n",
       "      <td>NaN</td>\n",
       "      <td>NaN</td>\n",
       "      <td>NaN</td>\n",
       "    </tr>\n",
       "    <tr>\n",
       "      <th>depth</th>\n",
       "      <td>NaN</td>\n",
       "      <td>NaN</td>\n",
       "      <td>NaN</td>\n",
       "      <td>NaN</td>\n",
       "      <td>1.0</td>\n",
       "      <td>NaN</td>\n",
       "      <td>NaN</td>\n",
       "      <td>NaN</td>\n",
       "      <td>NaN</td>\n",
       "    </tr>\n",
       "    <tr>\n",
       "      <th>table</th>\n",
       "      <td>NaN</td>\n",
       "      <td>NaN</td>\n",
       "      <td>NaN</td>\n",
       "      <td>NaN</td>\n",
       "      <td>NaN</td>\n",
       "      <td>1.0</td>\n",
       "      <td>NaN</td>\n",
       "      <td>NaN</td>\n",
       "      <td>NaN</td>\n",
       "    </tr>\n",
       "    <tr>\n",
       "      <th>x</th>\n",
       "      <td>0.975955</td>\n",
       "      <td>NaN</td>\n",
       "      <td>NaN</td>\n",
       "      <td>NaN</td>\n",
       "      <td>NaN</td>\n",
       "      <td>NaN</td>\n",
       "      <td>1.000000</td>\n",
       "      <td>0.997564</td>\n",
       "      <td>0.990856</td>\n",
       "    </tr>\n",
       "    <tr>\n",
       "      <th>y</th>\n",
       "      <td>0.974691</td>\n",
       "      <td>NaN</td>\n",
       "      <td>NaN</td>\n",
       "      <td>NaN</td>\n",
       "      <td>NaN</td>\n",
       "      <td>NaN</td>\n",
       "      <td>0.997564</td>\n",
       "      <td>1.000000</td>\n",
       "      <td>0.990340</td>\n",
       "    </tr>\n",
       "    <tr>\n",
       "      <th>z</th>\n",
       "      <td>0.973687</td>\n",
       "      <td>NaN</td>\n",
       "      <td>NaN</td>\n",
       "      <td>NaN</td>\n",
       "      <td>NaN</td>\n",
       "      <td>NaN</td>\n",
       "      <td>0.990856</td>\n",
       "      <td>0.990340</td>\n",
       "      <td>1.000000</td>\n",
       "    </tr>\n",
       "  </tbody>\n",
       "</table>\n",
       "</div>"
      ],
      "text/plain": [
       "            carat  clarity  color  cut  depth  table         x         y  \\\n",
       "carat    1.000000      NaN    NaN  NaN    NaN    NaN  0.975955  0.974691   \n",
       "clarity       NaN      1.0    NaN  NaN    NaN    NaN       NaN       NaN   \n",
       "color         NaN      NaN    1.0  NaN    NaN    NaN       NaN       NaN   \n",
       "cut           NaN      NaN    NaN  1.0    NaN    NaN       NaN       NaN   \n",
       "depth         NaN      NaN    NaN  NaN    1.0    NaN       NaN       NaN   \n",
       "table         NaN      NaN    NaN  NaN    NaN    1.0       NaN       NaN   \n",
       "x        0.975955      NaN    NaN  NaN    NaN    NaN  1.000000  0.997564   \n",
       "y        0.974691      NaN    NaN  NaN    NaN    NaN  0.997564  1.000000   \n",
       "z        0.973687      NaN    NaN  NaN    NaN    NaN  0.990856  0.990340   \n",
       "\n",
       "                z  \n",
       "carat    0.973687  \n",
       "clarity       NaN  \n",
       "color         NaN  \n",
       "cut           NaN  \n",
       "depth         NaN  \n",
       "table         NaN  \n",
       "x        0.990856  \n",
       "y        0.990340  \n",
       "z        1.000000  "
      ]
     },
     "execution_count": 19,
     "metadata": {},
     "output_type": "execute_result"
    }
   ],
   "source": [
    "corr_ma = diamantes.corr()\n",
    "corr_ma[corr_ma>0.8]"
   ]
  },
  {
   "cell_type": "code",
   "execution_count": 20,
   "metadata": {},
   "outputs": [
    {
     "data": {
      "text/plain": [
       "<matplotlib.axes._subplots.AxesSubplot at 0x7f72369e4710>"
      ]
     },
     "execution_count": 20,
     "metadata": {},
     "output_type": "execute_result"
    },
    {
     "data": {
      "image/png": "[encoded data removed]",
      "text/plain": [
       "<Figure size 720x504 with 2 Axes>"
      ]
     },
     "metadata": {
      "needs_background": "light"
     },
     "output_type": "display_data"
    }
   ],
   "source": [
    "mask = np.zeros_like(corr_ma, dtype=np.bool)\n",
    "mask[np.triu_indices_from(mask)] = True\n",
    "f, ax = plt.subplots(figsize=(10, 7))\n",
    "cmap = sns.diverging_palette(220, 10, as_cmap=True)\n",
    "sns.heatmap(corr_ma, mask=mask, cmap=cmap, vmax=.3, center=0,\n",
    "            square=True, linewidths=.5, cbar_kws={\"shrink\": .5})"
   ]
  },
  {
   "cell_type": "markdown",
   "metadata": {},
   "source": [
    "## Empezamos las pruebas de entrenamiento"
   ]
  },
  {
   "cell_type": "markdown",
   "metadata": {},
   "source": [
    "Pruebo el RandomForestRegressor"
   ]
  },
  {
   "cell_type": "code",
   "execution_count": 20,
   "metadata": {},
   "outputs": [
    {
     "name": "stdout",
     "output_type": "stream",
     "text": [
      "Acurray :  0.8127515529927588\n"
     ]
    },
    {
     "data": {
      "text/html": [
       "<div>\n",
       "<style scoped>\n",
       "    .dataframe tbody tr th:only-of-type {\n",
       "        vertical-align: middle;\n",
       "    }\n",
       "\n",
       "    .dataframe tbody tr th {\n",
       "        vertical-align: top;\n",
       "    }\n",
       "\n",
       "    .dataframe thead th {\n",
       "        text-align: right;\n",
       "    }\n",
       "</style>\n",
       "<table border=\"1\" class=\"dataframe\">\n",
       "  <thead>\n",
       "    <tr style=\"text-align: right;\">\n",
       "      <th></th>\n",
       "      <th>price</th>\n",
       "    </tr>\n",
       "  </thead>\n",
       "  <tbody>\n",
       "    <tr>\n",
       "      <th>0</th>\n",
       "      <td>6363.369810</td>\n",
       "    </tr>\n",
       "    <tr>\n",
       "      <th>1</th>\n",
       "      <td>3115.323705</td>\n",
       "    </tr>\n",
       "    <tr>\n",
       "      <th>2</th>\n",
       "      <td>1051.671283</td>\n",
       "    </tr>\n",
       "    <tr>\n",
       "      <th>3</th>\n",
       "      <td>1051.671283</td>\n",
       "    </tr>\n",
       "    <tr>\n",
       "      <th>4</th>\n",
       "      <td>6363.369810</td>\n",
       "    </tr>\n",
       "    <tr>\n",
       "      <th>...</th>\n",
       "      <td>...</td>\n",
       "    </tr>\n",
       "    <tr>\n",
       "      <th>8064</th>\n",
       "      <td>1051.671283</td>\n",
       "    </tr>\n",
       "    <tr>\n",
       "      <th>8065</th>\n",
       "      <td>1051.671283</td>\n",
       "    </tr>\n",
       "    <tr>\n",
       "      <th>8066</th>\n",
       "      <td>3115.323705</td>\n",
       "    </tr>\n",
       "    <tr>\n",
       "      <th>8067</th>\n",
       "      <td>1051.671283</td>\n",
       "    </tr>\n",
       "    <tr>\n",
       "      <th>8068</th>\n",
       "      <td>1051.671283</td>\n",
       "    </tr>\n",
       "  </tbody>\n",
       "</table>\n",
       "<p>8069 rows × 1 columns</p>\n",
       "</div>"
      ],
      "text/plain": [
       "            price\n",
       "0     6363.369810\n",
       "1     3115.323705\n",
       "2     1051.671283\n",
       "3     1051.671283\n",
       "4     6363.369810\n",
       "...           ...\n",
       "8064  1051.671283\n",
       "8065  1051.671283\n",
       "8066  3115.323705\n",
       "8067  1051.671283\n",
       "8068  1051.671283\n",
       "\n",
       "[8069 rows x 1 columns]"
      ]
     },
     "execution_count": 20,
     "metadata": {},
     "output_type": "execute_result"
    }
   ],
   "source": [
    "X_train, X_test, y_train, y_test = train_test_split(diamantes,y_diamantes,test_size=0.2)  \n",
    "regr = RandomForestRegressor(max_depth=2, random_state=0)\n",
    "\n",
    "diamantesRFR= regr.fit(X_train, y_train)\n",
    "y_pred = regr.predict(X_test)\n",
    "\n",
    "print(\"Acurray : \",r2_score(y_test, y_pred))\n",
    "compareRFR = pd.DataFrame({'price':y_pred})\n",
    "compareRFR"
   ]
  },
  {
   "cell_type": "code",
   "execution_count": 21,
   "metadata": {},
   "outputs": [
    {
     "data": {
      "text/plain": [
       "(13449,)"
      ]
     },
     "metadata": {},
     "output_type": "display_data"
    },
    {
     "data": {
      "text/plain": [
       "(13449, 9)"
      ]
     },
     "metadata": {},
     "output_type": "display_data"
    },
    {
     "data": {
      "text/html": [
       "<div>\n",
       "<style scoped>\n",
       "    .dataframe tbody tr th:only-of-type {\n",
       "        vertical-align: middle;\n",
       "    }\n",
       "\n",
       "    .dataframe tbody tr th {\n",
       "        vertical-align: top;\n",
       "    }\n",
       "\n",
       "    .dataframe thead th {\n",
       "        text-align: right;\n",
       "    }\n",
       "</style>\n",
       "<table border=\"1\" class=\"dataframe\">\n",
       "  <thead>\n",
       "    <tr style=\"text-align: right;\">\n",
       "      <th></th>\n",
       "      <th>Unnamed: 0</th>\n",
       "      <th>price</th>\n",
       "    </tr>\n",
       "  </thead>\n",
       "  <tbody>\n",
       "    <tr>\n",
       "      <th>0</th>\n",
       "      <td>0</td>\n",
       "      <td>1051.671283</td>\n",
       "    </tr>\n",
       "    <tr>\n",
       "      <th>1</th>\n",
       "      <td>1</td>\n",
       "      <td>1051.671283</td>\n",
       "    </tr>\n",
       "    <tr>\n",
       "      <th>2</th>\n",
       "      <td>2</td>\n",
       "      <td>3115.323705</td>\n",
       "    </tr>\n",
       "    <tr>\n",
       "      <th>3</th>\n",
       "      <td>3</td>\n",
       "      <td>6363.369810</td>\n",
       "    </tr>\n",
       "    <tr>\n",
       "      <th>4</th>\n",
       "      <td>4</td>\n",
       "      <td>6363.369810</td>\n",
       "    </tr>\n",
       "    <tr>\n",
       "      <th>...</th>\n",
       "      <td>...</td>\n",
       "      <td>...</td>\n",
       "    </tr>\n",
       "    <tr>\n",
       "      <th>13444</th>\n",
       "      <td>13444</td>\n",
       "      <td>1051.671283</td>\n",
       "    </tr>\n",
       "    <tr>\n",
       "      <th>13445</th>\n",
       "      <td>13445</td>\n",
       "      <td>3115.323705</td>\n",
       "    </tr>\n",
       "    <tr>\n",
       "      <th>13446</th>\n",
       "      <td>13446</td>\n",
       "      <td>1051.671283</td>\n",
       "    </tr>\n",
       "    <tr>\n",
       "      <th>13447</th>\n",
       "      <td>13447</td>\n",
       "      <td>3094.219866</td>\n",
       "    </tr>\n",
       "    <tr>\n",
       "      <th>13448</th>\n",
       "      <td>13448</td>\n",
       "      <td>6363.369810</td>\n",
       "    </tr>\n",
       "  </tbody>\n",
       "</table>\n",
       "<p>13449 rows × 2 columns</p>\n",
       "</div>"
      ],
      "text/plain": [
       "       Unnamed: 0        price\n",
       "0               0  1051.671283\n",
       "1               1  1051.671283\n",
       "2               2  3115.323705\n",
       "3               3  6363.369810\n",
       "4               4  6363.369810\n",
       "...           ...          ...\n",
       "13444       13444  1051.671283\n",
       "13445       13445  3115.323705\n",
       "13446       13446  1051.671283\n",
       "13447       13447  3094.219866\n",
       "13448       13448  6363.369810\n",
       "\n",
       "[13449 rows x 2 columns]"
      ]
     },
     "metadata": {},
     "output_type": "display_data"
    }
   ],
   "source": [
    "y_predRFR= diamantesRFR.predict(diamantes_testeo)\n",
    "display(y_predRFR.shape,diamantes_testeo.shape)\n",
    "#Lo aplicamos para hacer la predicción\n",
    "\n",
    "compareRFR = pd.DataFrame({\"id\":list(range(0,len(y_predRFR))),'price':y_predRFR})\n",
    "display(compareRFR)"
   ]
  },
  {
   "cell_type": "markdown",
   "metadata": {},
   "source": [
    "Creo un csv para subirlo"
   ]
  },
  {
   "cell_type": "code",
   "execution_count": 22,
   "metadata": {},
   "outputs": [],
   "source": [
    "compareRFR.to_csv('../Output//sample_submissionRandomREgresion.csv')"
   ]
  },
  {
   "cell_type": "markdown",
   "metadata": {},
   "source": [
    "Voy a probar el GradientBoostingRegressor"
   ]
  },
  {
   "cell_type": "code",
   "execution_count": 42,
   "metadata": {},
   "outputs": [
    {
     "name": "stdout",
     "output_type": "stream",
     "text": [
      "0.9604647047089433\n"
     ]
    }
   ],
   "source": [
    "X_train, X_test, y_train, y_test = train_test_split(diamantes,y_diamantes,test_size=0.2)  \n",
    "gradient = ensemble.GradientBoostingRegressor( n_estimators = 50,max_depth = 6,\n",
    "                                             min_samples_split = 3,learning_rate = 0.1)\n",
    "diamantesGBR = gradient.fit(X_train, y_train)\n",
    "y_predGradienet = gradient.predict(X_test)\n",
    "print(r2_score(y_test, y_predGradienet))"
   ]
  },
  {
   "cell_type": "code",
   "execution_count": 43,
   "metadata": {},
   "outputs": [],
   "source": [
    "y_predGBR= diamantesGBR.predict(diamantes_testeo)\n",
    "compareGBR = pd.DataFrame({\"id\":range(len(y_predGBR)),\"price\":y_predGBR})"
   ]
  },
  {
   "cell_type": "code",
   "execution_count": 44,
   "metadata": {},
   "outputs": [],
   "source": [
    "compareGBR.to_csv('../Output//sample_submissionGradientBoostingRegressor.csv',index=False)\n"
   ]
  },
  {
   "cell_type": "markdown",
   "metadata": {},
   "source": [
    "Practamos con el modelo GradientBoostingRegressor"
   ]
  },
  {
   "cell_type": "code",
   "execution_count": 32,
   "metadata": {},
   "outputs": [
    {
     "name": "stdout",
     "output_type": "stream",
     "text": [
      "0.9591167122731298\n"
     ]
    }
   ],
   "source": [
    "X_train, X_test, y_train, y_test = train_test_split(diamantes,y_diamantes,test_size=0.2)  \n",
    "\n",
    "gradient = ensemble.GradientBoostingRegressor( loss= \"huber\",n_estimators = 50,max_depth = 8,\n",
    "                                             min_samples_split = 3,learning_rate = 0.1)\n",
    "diamantesRFR = gradient.fit(X_train, y_train)\n",
    "y_pred = diamantesRFR.predict(X_test)\n",
    "print(r2_score(y_test, y_pred))"
   ]
  },
  {
   "cell_type": "code",
   "execution_count": null,
   "metadata": {},
   "outputs": [
    {
     "name": "stdout",
     "output_type": "stream",
     "text": [
      "Fitting 5 folds for each of 18 candidates, totalling 90 fits\n"
     ]
    },
    {
     "name": "stderr",
     "output_type": "stream",
     "text": [
      "[Parallel(n_jobs=7)]: Using backend LokyBackend with 7 concurrent workers.\n",
      "[Parallel(n_jobs=7)]: Done   4 tasks      | elapsed:   20.9s\n",
      "[Parallel(n_jobs=7)]: Done  11 tasks      | elapsed:   40.4s\n",
      "[Parallel(n_jobs=7)]: Done  18 tasks      | elapsed: 21.5min\n"
     ]
    }
   ],
   "source": [
    "params = { \n",
    "           'learning_rate':[0.15,0.1,0.05], \n",
    "           'n_estimators':[50,2750],                    \n",
    "          \"random_state\": [3,10,100]    \n",
    "          \n",
    "         }\n",
    "tuning_gradientGradient = GridSearchCV(estimator=diamantesRFR,param_grid=params,scoring=\"r2\",verbose = 10, n_jobs=7, cv=5)\n",
    "\n",
    "def optimizar_modelos(tuning,X ,Y):\n",
    "    X_train, X_test, y_train, y_test = train_test_split(X,Y,test_size=0.2)  \n",
    "    #tuning_gradientGradient = GridSearchCV(estimator=tuning,param_grid=params,scoring=\"r2\",verbose = 10, n_jobs=7, cv=5)\n",
    "\n",
    "    t0 =time()\n",
    "    observando = tuning.fit(X_train,y_train)\n",
    "    y_pred = observando.predict(X_test)\n",
    "    print(r2_score(y_test, y_pred))\n",
    "\n",
    "    print(\"done in %0.3fs\" % (time() - t0))\n",
    "    print(\"Best estimator found by grid search:\")\n",
    "    print(observando.best_estimator_)\n",
    "    return y_pred\n",
    "resultado = optimizar_modelos(tuning_gradientGradient,diamantes,y_diamantes)"
   ]
  },
  {
   "cell_type": "markdown",
   "metadata": {},
   "source": [
    "Voy a probar la PLSRegression\n"
   ]
  },
  {
   "cell_type": "code",
   "execution_count": 47,
   "metadata": {},
   "outputs": [
    {
     "ename": "SyntaxError",
     "evalue": "invalid syntax (<ipython-input-47-53989608a2a0>, line 6)",
     "output_type": "error",
     "traceback": [
      "\u001b[0;36m  File \u001b[0;32m\"<ipython-input-47-53989608a2a0>\"\u001b[0;36m, line \u001b[0;32m6\u001b[0m\n\u001b[0;31m    m = model.fit(X_train, y_train)\u001b[0m\n\u001b[0m    ^\u001b[0m\n\u001b[0;31mSyntaxError\u001b[0m\u001b[0;31m:\u001b[0m invalid syntax\n"
     ]
    }
   ],
   "source": [
    "X_train, X_test, y_train, y_test = train_test_split(diamantes,y_diamantes,test_size=0.2)        \n",
    "\n",
    "from sklearn.cross_decomposition import PLSRegression\n",
    "\n",
    "pls2 = PLSRegression(n_components=100, scale=True, max_iter=500, tol=1e-06, copy=True\n",
    "m = pls2.fit(X_train, y_train)\n",
    "y_pred = m.predict(X_test)  \n",
    "print(r2_score(y_test, y_pred))\n",
    "#r2_score = 0.8489243795102168                     "
   ]
  },
  {
   "cell_type": "code",
   "execution_count": 25,
   "metadata": {},
   "outputs": [
    {
     "ename": "SyntaxError",
     "evalue": "invalid syntax (<ipython-input-25-4e5c9cb90067>, line 1)",
     "output_type": "error",
     "traceback": [
      "\u001b[0;36m  File \u001b[0;32m\"<ipython-input-25-4e5c9cb90067>\"\u001b[0;36m, line \u001b[0;32m1\u001b[0m\n\u001b[0;31m    Probando en colab\u001b[0m\n\u001b[0m              ^\u001b[0m\n\u001b[0;31mSyntaxError\u001b[0m\u001b[0;31m:\u001b[0m invalid syntax\n"
     ]
    }
   ],
   "source": [
    "#Probando en colab\n",
    "\n",
    "c =['newton-cg', 'sag', 'saga' , 'lbfgs' ]\n",
    "for e in c:\n",
    "    X_train, X_test, y_train, y_test = train_test_split(diamantes,y_diamantes,test_size=0.2)        \n",
    "    print(\"modelo:  \"  ,e)\n",
    "    model = LogisticRegression(C=10,random_state=12 ,solver=e,n_jobs=6)\n",
    "    m = model.fit(X_train, y_train)\n",
    "    y_pred = m.predict(X_test) \n",
    "     print(\"Terminado el modelo:  \"  ,e)\n",
    "    print(r2_score(y_test, y_pred))    \n",
    "    \n",
    "\"\"\"modelo:   newton-cg\n",
    "Terminado el modelo:   newton-cg\n",
    "0.7331343469414701\n",
    "modelo:   sag\n",
    "Terminado el modelo:   sag\n",
    "0.6993192236265758\n",
    "modelo:   saga\n",
    "Terminado el modelo:   saga\n",
    "0.7049012313114302\n",
    "modelo:   lbfgs\n",
    "Terminado el modelo:   lbfgs\n",
    "0.7451729344305205\n",
    "\"\"\""
   ]
  },
  {
   "cell_type": "markdown",
   "metadata": {},
   "source": [
    "Entrenando HistGradientBoostingRegressor"
   ]
  },
  {
   "cell_type": "code",
   "execution_count": 69,
   "metadata": {},
   "outputs": [
    {
     "name": "stdout",
     "output_type": "stream",
     "text": [
      "Fitting 5 folds for each of 24 candidates, totalling 120 fits\n"
     ]
    },
    {
     "name": "stderr",
     "output_type": "stream",
     "text": [
      "[Parallel(n_jobs=7)]: Using backend LokyBackend with 7 concurrent workers.\n",
      "[Parallel(n_jobs=7)]: Done   4 tasks      | elapsed:    2.8s\n",
      "[Parallel(n_jobs=7)]: Done  11 tasks      | elapsed:    4.5s\n",
      "[Parallel(n_jobs=7)]: Done  18 tasks      | elapsed:    4.8s\n",
      "[Parallel(n_jobs=7)]: Done  27 tasks      | elapsed:    5.0s\n",
      "[Parallel(n_jobs=7)]: Done  36 tasks      | elapsed:    6.1s\n",
      "[Parallel(n_jobs=7)]: Done  47 tasks      | elapsed:    8.1s\n",
      "[Parallel(n_jobs=7)]: Done  58 tasks      | elapsed:    9.8s\n",
      "[Parallel(n_jobs=7)]: Done  71 tasks      | elapsed:   10.0s\n",
      "[Parallel(n_jobs=7)]: Batch computation too fast (0.1956s.) Setting batch_size=2.\n",
      "[Parallel(n_jobs=7)]: Done  84 tasks      | elapsed:   12.8s\n",
      "[Parallel(n_jobs=7)]: Done 107 out of 120 | elapsed:   14.5s remaining:    1.8s\n",
      "[Parallel(n_jobs=7)]: Done 120 out of 120 | elapsed:   16.1s remaining:    0.0s\n",
      "[Parallel(n_jobs=7)]: Done 120 out of 120 | elapsed:   16.1s finished\n"
     ]
    },
    {
     "name": "stdout",
     "output_type": "stream",
     "text": [
      "0.9668563074510831\n",
      "done in 17.586s\n",
      "Best estimator found by grid search:\n",
      "HistGradientBoostingRegressor(l2_regularization=0.0, learning_rate=0.15,\n",
      "                              loss='least_squares', max_bins=50, max_depth=None,\n",
      "                              max_iter=100, max_leaf_nodes=50,\n",
      "                              min_samples_leaf=50, n_iter_no_change=None,\n",
      "                              random_state=50, scoring=None, tol=1e-07,\n",
      "                              validation_fraction=0.1, verbose=0,\n",
      "                              warm_start=False)\n"
     ]
    }
   ],
   "source": [
    "X_train, X_test, y_train, y_test = train_test_split(diamantes,y_diamantes,test_size=0.2)  \n",
    "histaGBR = HistGradientBoostingRegressor(max_iter =100,max_leaf_nodes=50)\n",
    "params = { 'learning_rate':[0.15,0.1,0.05], \n",
    "           'max_bins':[50,1750],\n",
    "           'random_state':[50, 100],\n",
    "           'min_samples_leaf': [50, 100]}\n",
    "os la predición y nos dice cual funciona mejor  \n",
    "resultasoHGBR = optimizar_modelos(histaGBR,diamantes,y_diamantes)"
   ]
  },
  {
   "cell_type": "code",
   "execution_count": 28,
   "metadata": {},
   "outputs": [
    {
     "name": "stdout",
     "output_type": "stream",
     "text": [
      "0.9681295876151\n"
     ]
    }
   ],
   "source": [
    "X_train, X_test, y_train, y_test = train_test_split(diamantes,y_diamantes,test_size=0.2)  \n",
    "historiGrand=HistGradientBoostingRegressor(l2_regularization=0.0, learning_rate=0.15,\n",
    "                              loss='least_squares', max_bins=50, max_depth=None,\n",
    "                              max_iter=100, max_leaf_nodes=50,\n",
    "                              min_samples_leaf=50, n_iter_no_change=None,\n",
    "                              random_state=50, scoring=None, tol=1e-07,\n",
    "                              validation_fraction=0.1, verbose=0,\n",
    "                              warm_start=False)\n",
    "\n",
    "\n",
    "historiGrandEstimacion =  historiGrand.fit(X_train, y_train)\n",
    "y_pred = historiGrandEstimacion.predict(X_test)\n",
    "print(r2_score(y_test, y_pred))"
   ]
  },
  {
   "cell_type": "code",
   "execution_count": 29,
   "metadata": {},
   "outputs": [],
   "source": [
    "y_predhGE = historiGrandEstimacion.predict(diamantes_testeo)"
   ]
  },
  {
   "cell_type": "code",
   "execution_count": 30,
   "metadata": {},
   "outputs": [],
   "source": [
    "comparehistoriGrandEstimacion2 = pd.DataFrame({\"id\":range(len(y_predhGE)),\"price\":y_predhGE })\n",
    "comparehistoriGrandEstimacion2.shape\n",
    "comparehistoriGrandEstimacion2.to_csv('../Output//sample_submissionHitGradientBoostingRegressor.csv',header=True)"
   ]
  },
  {
   "cell_type": "markdown",
   "metadata": {},
   "source": [
    "Uso estimadores para intentar optimizar el resultado con StackingRegressor"
   ]
  },
  {
   "cell_type": "code",
   "execution_count": 27,
   "metadata": {},
   "outputs": [
    {
     "data": {
      "text/plain": [
       "0.9606305105753804"
      ]
     },
     "execution_count": 27,
     "metadata": {},
     "output_type": "execute_result"
    }
   ],
   "source": [
    "estimators = [\n",
    " ('lr', RidgeCV()),\n",
    " ('svr', LinearSVR(random_state=42)),\n",
    " (\"AdaBoostRegressor\",   AdaBoostRegressor(random_state=0, n_estimators=100)),\n",
    " (\"RANSACR\", RANSACRegressor(random_state=0)),\n",
    " (\"GradientBoostingRegressor\",ensemble.GradientBoostingRegressor( loss= \"huber\",n_estimators = 50,max_depth = 8,\n",
    "                                             min_samples_split = 3,learning_rate = 0.1))\n",
    "]\n",
    "reg = StackingRegressor(\n",
    "     estimators=estimators,\n",
    "     final_estimator=HistGradientBoostingRegressor(l2_regularization=0.0, learning_rate=0.15,\n",
    "                              loss='least_squares', max_bins=50, max_depth=None,\n",
    "                              max_iter=100, max_leaf_nodes=50,\n",
    "                              min_samples_leaf=50, n_iter_no_change=None,\n",
    "                              random_state=50, scoring=None, tol=1e-07,\n",
    "                              validation_fraction=0.1, verbose=0,\n",
    "                              warm_start=False))\n",
    "\n",
    "X_train, X_test, y_train, y_test = train_test_split(diamantes, y_diamantes, random_state=42)\n",
    "modelotop = reg.fit(X_train, y_train)\n",
    "modelotop.score(X_test, y_test)"
   ]
  },
  {
   "cell_type": "markdown",
   "metadata": {},
   "source": [
    "Ahora con estimador de union intentare mejorar el resultado con VotingRegressor "
   ]
  },
  {
   "cell_type": "code",
   "execution_count": 29,
   "metadata": {},
   "outputs": [
    {
     "name": "stdout",
     "output_type": "stream",
     "text": [
      "[1373.31119846  752.5259328  4390.86395446 ...  685.67214277 7580.25995905\n",
      "  686.14998512]\n"
     ]
    }
   ],
   "source": [
    "X_train, X_test, y_train, y_test = train_test_split(diamantes, y_diamantes, random_state=42)\n",
    "from sklearn.ensemble import VotingRegressor\n",
    "historiGrand = HistGradientBoostingRegressor(l2_regularization=0.0, learning_rate=0.15,\n",
    "                              loss='least_squares', max_bins=50, max_depth=None,\n",
    "                              max_iter=100, max_leaf_nodes=50,\n",
    "                              min_samples_leaf=50, n_iter_no_change=None,\n",
    "                              random_state=50, scoring=None, tol=1e-07,\n",
    "                              validation_fraction=0.1, verbose=0,\n",
    "                              warm_start=False)\n",
    "\n",
    "\n",
    "\n",
    "solucion = VotingRegressor([('lr', modelotop), ('rf', historiGrand)])\n",
    "print(solucion.fit(X_train, y_train).predict(X_test))"
   ]
  },
  {
   "cell_type": "code",
   "execution_count": 30,
   "metadata": {},
   "outputs": [
    {
     "data": {
      "text/plain": [
       "0.9687614084397578"
      ]
     },
     "execution_count": 30,
     "metadata": {},
     "output_type": "execute_result"
    }
   ],
   "source": [
    "solucion.score(X_test, y_test)"
   ]
  },
  {
   "cell_type": "code",
   "execution_count": 46,
   "metadata": {},
   "outputs": [
    {
     "data": {
      "text/plain": [
       "(13449,)"
      ]
     },
     "metadata": {},
     "output_type": "display_data"
    },
    {
     "data": {
      "text/plain": [
       "(13449, 9)"
      ]
     },
     "metadata": {},
     "output_type": "display_data"
    }
   ],
   "source": [
    "y_predVRHMTOP= solucion.predict(diamantes_testeo)\n",
    "display(y_predVRHMTOP.shape,diamantes_testeo.shape)\n",
    "\n",
    "compareVotingRegresorhistyModelotop= pd.DataFrame({\"id\":range(len(y_predVRHMTOP)),\"price\":y_predVRHMTOP})\n",
    "compareVotingRegresorhistyModelotop.to_csv('../Output//sample_submissionVotingRegresor(histyModelotop).csv',index=False)\n"
   ]
  },
  {
   "cell_type": "code",
   "execution_count": null,
   "metadata": {},
   "outputs": [],
   "source": []
  }
 ],
 "metadata": {
  "kernelspec": {
   "display_name": "Python 3",
   "language": "python",
   "name": "python3"
  },
  "language_info": {
   "codemirror_mode": {
    "name": "ipython",
    "version": 3
   },
   "file_extension": ".py",
   "mimetype": "text/x-python",
   "name": "python",
   "nbconvert_exporter": "python",
   "pygments_lexer": "ipython3",
   "version": "3.6.9"
  }
 },
 "nbformat": 4,
 "nbformat_minor": 4
}
